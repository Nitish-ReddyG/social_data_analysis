{
  "cells": [
    {
      "cell_type": "code",
      "execution_count": null,
      "metadata": {
        "id": "2ZUBz9BIh42b"
      },
      "outputs": [],
      "source": [
        "import pandas as pd\n",
        "import matplotlib.pyplot as plt\n",
        "import seaborn as sns"
      ]
    },
    {
      "cell_type": "markdown",
      "metadata": {
        "id": "_eJwY3desquq"
      },
      "source": [
        "# Loading the data"
      ]
    },
    {
      "cell_type": "code",
      "execution_count": null,
      "metadata": {
        "colab": {
          "base_uri": "https://localhost:8080/",
          "height": 206
        },
        "id": "gwgkyj7ui-BH",
        "outputId": "3c01c1ce-9896-43fe-c4c4-3dd2db1bccad"
      },
      "outputs": [
        {
          "data": {
            "text/html": [
              "<div>\n",
              "<style scoped>\n",
              "    .dataframe tbody tr th:only-of-type {\n",
              "        vertical-align: middle;\n",
              "    }\n",
              "\n",
              "    .dataframe tbody tr th {\n",
              "        vertical-align: top;\n",
              "    }\n",
              "\n",
              "    .dataframe thead th {\n",
              "        text-align: right;\n",
              "    }\n",
              "</style>\n",
              "<table border=\"1\" class=\"dataframe\">\n",
              "  <thead>\n",
              "    <tr style=\"text-align: right;\">\n",
              "      <th></th>\n",
              "      <th>Published Date</th>\n",
              "      <th>Account</th>\n",
              "      <th>Account Type</th>\n",
              "      <th>Campaign Name</th>\n",
              "      <th>Total Impressions</th>\n",
              "      <th>Total Engagements</th>\n",
              "      <th>Media Type</th>\n",
              "    </tr>\n",
              "  </thead>\n",
              "  <tbody>\n",
              "    <tr>\n",
              "      <th>0</th>\n",
              "      <td>2023-03-31 19:55:43.192</td>\n",
              "      <td>CSGO</td>\n",
              "      <td>TWITTER</td>\n",
              "      <td>N/A</td>\n",
              "      <td>0.0</td>\n",
              "      <td>0.0</td>\n",
              "      <td>Text</td>\n",
              "    </tr>\n",
              "    <tr>\n",
              "      <th>1</th>\n",
              "      <td>2023-03-31 19:49:35.243</td>\n",
              "      <td>CSGO</td>\n",
              "      <td>TWITTER</td>\n",
              "      <td>N/A</td>\n",
              "      <td>0.0</td>\n",
              "      <td>0.0</td>\n",
              "      <td>Text</td>\n",
              "    </tr>\n",
              "    <tr>\n",
              "      <th>2</th>\n",
              "      <td>2023-03-31 19:49:33.535</td>\n",
              "      <td>CSGO</td>\n",
              "      <td>TWITTER</td>\n",
              "      <td>N/A</td>\n",
              "      <td>0.0</td>\n",
              "      <td>0.0</td>\n",
              "      <td>Text</td>\n",
              "    </tr>\n",
              "    <tr>\n",
              "      <th>3</th>\n",
              "      <td>2023-03-31 19:49:31.583</td>\n",
              "      <td>CSGO</td>\n",
              "      <td>TWITTER</td>\n",
              "      <td>N/A</td>\n",
              "      <td>0.0</td>\n",
              "      <td>0.0</td>\n",
              "      <td>Text</td>\n",
              "    </tr>\n",
              "    <tr>\n",
              "      <th>4</th>\n",
              "      <td>2023-03-31 19:43:42.590</td>\n",
              "      <td>CSGO</td>\n",
              "      <td>TWITTER</td>\n",
              "      <td>Community Engagement</td>\n",
              "      <td>9517.0</td>\n",
              "      <td>1215.0</td>\n",
              "      <td>Video</td>\n",
              "    </tr>\n",
              "  </tbody>\n",
              "</table>\n",
              "</div>"
            ],
            "text/plain": [
              "           Published Date Account Account Type          Campaign Name  \\\n",
              "0 2023-03-31 19:55:43.192    CSGO      TWITTER                   N/A    \n",
              "1 2023-03-31 19:49:35.243    CSGO      TWITTER                   N/A    \n",
              "2 2023-03-31 19:49:33.535    CSGO      TWITTER                   N/A    \n",
              "3 2023-03-31 19:49:31.583    CSGO      TWITTER                   N/A    \n",
              "4 2023-03-31 19:43:42.590    CSGO      TWITTER  Community Engagement    \n",
              "\n",
              "   Total Impressions  Total Engagements Media Type  \n",
              "0                0.0                0.0       Text  \n",
              "1                0.0                0.0       Text  \n",
              "2                0.0                0.0       Text  \n",
              "3                0.0                0.0       Text  \n",
              "4             9517.0             1215.0      Video  "
            ]
          },
          "execution_count": 65,
          "metadata": {},
          "output_type": "execute_result"
        }
      ],
      "source": [
        "file_path = 'C:/Users/Checkout/Desktop/SQL/data/social_data.xlsx'\n",
        "data = pd.read_excel(file_path)\n",
        "data.head()"
      ]
    },
    {
      "cell_type": "markdown",
      "metadata": {
        "id": "E2lhIAdZt2XA"
      },
      "source": [
        "# Data Cleaning\n"
      ]
    },
    {
      "cell_type": "code",
      "execution_count": null,
      "metadata": {
        "colab": {
          "base_uri": "https://localhost:8080/"
        },
        "id": "e7qeY2TWt17y",
        "outputId": "bd8369cd-1758-4d68-e827-999ead1114b1"
      },
      "outputs": [
        {
          "data": {
            "text/plain": [
              "Published Date       0\n",
              "Account              0\n",
              "Account Type         0\n",
              "Campaign Name        0\n",
              "Total Impressions    0\n",
              "Total Engagements    0\n",
              "Media Type           0\n",
              "dtype: int64"
            ]
          },
          "execution_count": 66,
          "metadata": {},
          "output_type": "execute_result"
        }
      ],
      "source": [
        "data.isnull().sum()"
      ]
    },
    {
      "cell_type": "code",
      "execution_count": null,
      "metadata": {
        "colab": {
          "base_uri": "https://localhost:8080/"
        },
        "id": "hCg4kn1lmca_",
        "outputId": "341cdc6f-8399-4657-b4d2-429fe49d49a6"
      },
      "outputs": [
        {
          "data": {
            "text/plain": [
              "Published Date       0\n",
              "Account              0\n",
              "Account Type         0\n",
              "Campaign Name        0\n",
              "Total Impressions    0\n",
              "Total Engagements    0\n",
              "Media Type           0\n",
              "dtype: int64"
            ]
          },
          "execution_count": 67,
          "metadata": {},
          "output_type": "execute_result"
        }
      ],
      "source": [
        "data.isna().sum()"
      ]
    },
    {
      "cell_type": "markdown",
      "metadata": {
        "id": "w76t_vmjs29D"
      },
      "source": [
        "# Exploratory Data Analysis"
      ]
    },
    {
      "cell_type": "code",
      "execution_count": null,
      "metadata": {
        "colab": {
          "base_uri": "https://localhost:8080/",
          "height": 424
        },
        "id": "rl1OgmbymxWL",
        "outputId": "65f8819e-558f-4c02-9bc0-16b189561f38"
      },
      "outputs": [
        {
          "data": {
            "text/html": [
              "<div>\n",
              "<style scoped>\n",
              "    .dataframe tbody tr th:only-of-type {\n",
              "        vertical-align: middle;\n",
              "    }\n",
              "\n",
              "    .dataframe tbody tr th {\n",
              "        vertical-align: top;\n",
              "    }\n",
              "\n",
              "    .dataframe thead th {\n",
              "        text-align: right;\n",
              "    }\n",
              "</style>\n",
              "<table border=\"1\" class=\"dataframe\">\n",
              "  <thead>\n",
              "    <tr style=\"text-align: right;\">\n",
              "      <th></th>\n",
              "      <th>Account</th>\n",
              "      <th>Account Type</th>\n",
              "      <th>Campaign Name</th>\n",
              "      <th>Total Impressions</th>\n",
              "      <th>Total Engagements</th>\n",
              "      <th>Media Type</th>\n",
              "      <th>Date</th>\n",
              "      <th>Hour</th>\n",
              "    </tr>\n",
              "  </thead>\n",
              "  <tbody>\n",
              "    <tr>\n",
              "      <th>0</th>\n",
              "      <td>CSGO</td>\n",
              "      <td>TWITTER</td>\n",
              "      <td>N/A</td>\n",
              "      <td>0.0</td>\n",
              "      <td>0.0</td>\n",
              "      <td>Text</td>\n",
              "      <td>2023-03-31</td>\n",
              "      <td>19</td>\n",
              "    </tr>\n",
              "    <tr>\n",
              "      <th>1</th>\n",
              "      <td>CSGO</td>\n",
              "      <td>TWITTER</td>\n",
              "      <td>N/A</td>\n",
              "      <td>0.0</td>\n",
              "      <td>0.0</td>\n",
              "      <td>Text</td>\n",
              "      <td>2023-03-31</td>\n",
              "      <td>19</td>\n",
              "    </tr>\n",
              "    <tr>\n",
              "      <th>2</th>\n",
              "      <td>CSGO</td>\n",
              "      <td>TWITTER</td>\n",
              "      <td>N/A</td>\n",
              "      <td>0.0</td>\n",
              "      <td>0.0</td>\n",
              "      <td>Text</td>\n",
              "      <td>2023-03-31</td>\n",
              "      <td>19</td>\n",
              "    </tr>\n",
              "    <tr>\n",
              "      <th>3</th>\n",
              "      <td>CSGO</td>\n",
              "      <td>TWITTER</td>\n",
              "      <td>N/A</td>\n",
              "      <td>0.0</td>\n",
              "      <td>0.0</td>\n",
              "      <td>Text</td>\n",
              "      <td>2023-03-31</td>\n",
              "      <td>19</td>\n",
              "    </tr>\n",
              "    <tr>\n",
              "      <th>4</th>\n",
              "      <td>CSGO</td>\n",
              "      <td>TWITTER</td>\n",
              "      <td>Community Engagement</td>\n",
              "      <td>9517.0</td>\n",
              "      <td>1215.0</td>\n",
              "      <td>Video</td>\n",
              "      <td>2023-03-31</td>\n",
              "      <td>19</td>\n",
              "    </tr>\n",
              "    <tr>\n",
              "      <th>...</th>\n",
              "      <td>...</td>\n",
              "      <td>...</td>\n",
              "      <td>...</td>\n",
              "      <td>...</td>\n",
              "      <td>...</td>\n",
              "      <td>...</td>\n",
              "      <td>...</td>\n",
              "      <td>...</td>\n",
              "    </tr>\n",
              "    <tr>\n",
              "      <th>3474</th>\n",
              "      <td>CSGO</td>\n",
              "      <td>TWITTER</td>\n",
              "      <td>N/A</td>\n",
              "      <td>0.0</td>\n",
              "      <td>0.0</td>\n",
              "      <td>Link</td>\n",
              "      <td>2023-01-03</td>\n",
              "      <td>10</td>\n",
              "    </tr>\n",
              "    <tr>\n",
              "      <th>3475</th>\n",
              "      <td>CSGO</td>\n",
              "      <td>TWITTER</td>\n",
              "      <td>N/A</td>\n",
              "      <td>0.0</td>\n",
              "      <td>0.0</td>\n",
              "      <td>Link</td>\n",
              "      <td>2023-01-03</td>\n",
              "      <td>10</td>\n",
              "    </tr>\n",
              "    <tr>\n",
              "      <th>3476</th>\n",
              "      <td>CSGO</td>\n",
              "      <td>TWITTER</td>\n",
              "      <td>N/A</td>\n",
              "      <td>0.0</td>\n",
              "      <td>0.0</td>\n",
              "      <td>Link</td>\n",
              "      <td>2023-01-03</td>\n",
              "      <td>10</td>\n",
              "    </tr>\n",
              "    <tr>\n",
              "      <th>3477</th>\n",
              "      <td>CSGO</td>\n",
              "      <td>TWITTER</td>\n",
              "      <td>N/A</td>\n",
              "      <td>2116.0</td>\n",
              "      <td>42.0</td>\n",
              "      <td>Text</td>\n",
              "      <td>2023-01-03</td>\n",
              "      <td>10</td>\n",
              "    </tr>\n",
              "    <tr>\n",
              "      <th>3478</th>\n",
              "      <td>General</td>\n",
              "      <td>FBPAGE</td>\n",
              "      <td>N/A</td>\n",
              "      <td>0.0</td>\n",
              "      <td>0.0</td>\n",
              "      <td>Photo</td>\n",
              "      <td>2023-01-01</td>\n",
              "      <td>14</td>\n",
              "    </tr>\n",
              "  </tbody>\n",
              "</table>\n",
              "<p>3479 rows × 8 columns</p>\n",
              "</div>"
            ],
            "text/plain": [
              "       Account Account Type          Campaign Name  Total Impressions  \\\n",
              "0         CSGO      TWITTER                   N/A                 0.0   \n",
              "1         CSGO      TWITTER                   N/A                 0.0   \n",
              "2         CSGO      TWITTER                   N/A                 0.0   \n",
              "3         CSGO      TWITTER                   N/A                 0.0   \n",
              "4         CSGO      TWITTER  Community Engagement              9517.0   \n",
              "...        ...          ...                    ...                ...   \n",
              "3474      CSGO      TWITTER                   N/A                 0.0   \n",
              "3475      CSGO      TWITTER                   N/A                 0.0   \n",
              "3476      CSGO      TWITTER                   N/A                 0.0   \n",
              "3477      CSGO      TWITTER                   N/A              2116.0   \n",
              "3478  General        FBPAGE                   N/A                 0.0   \n",
              "\n",
              "      Total Engagements Media Type        Date Hour  \n",
              "0                   0.0       Text  2023-03-31   19  \n",
              "1                   0.0       Text  2023-03-31   19  \n",
              "2                   0.0       Text  2023-03-31   19  \n",
              "3                   0.0       Text  2023-03-31   19  \n",
              "4                1215.0      Video  2023-03-31   19  \n",
              "...                 ...        ...         ...  ...  \n",
              "3474                0.0       Link  2023-01-03   10  \n",
              "3475                0.0       Link  2023-01-03   10  \n",
              "3476                0.0       Link  2023-01-03   10  \n",
              "3477               42.0       Text  2023-01-03   10  \n",
              "3478                0.0      Photo  2023-01-01   14  \n",
              "\n",
              "[3479 rows x 8 columns]"
            ]
          },
          "execution_count": 68,
          "metadata": {},
          "output_type": "execute_result"
        }
      ],
      "source": [
        "data['Date'] = data['Published Date'].dt.date\n",
        "data['Hour'] = data['Published Date'].dt.strftime('%H')\n",
        "col = ['Published Date']\n",
        "data = data.drop(columns = col)\n",
        "data\n"
      ]
    },
    {
      "cell_type": "code",
      "execution_count": null,
      "metadata": {
        "colab": {
          "base_uri": "https://localhost:8080/",
          "height": 718
        },
        "id": "_cstWxJ9s-De",
        "outputId": "2a157254-5ceb-46c6-8d54-93ac619aaff4"
      },
      "outputs": [
        {
          "data": {
            "image/png": "[encoded data removed]",
            "text/plain": [
              "<Figure size 1152x576 with 1 Axes>"
            ]
          },
          "metadata": {
            "needs_background": "light"
          },
          "output_type": "display_data"
        }
      ],
      "source": [
        "engagements_over_time = data.groupby('Date')['Total Engagements'].sum()\n",
        "plt.rcParams['figure.figsize'] = [16, 8]\n",
        "engagements_over_time.plot(kind='line')\n",
        "plt.xlabel('Date')\n",
        "plt.ylabel('Total Engagements')\n",
        "plt.title('Total Engagements Over Time')\n",
        "plt.show()\n"
      ]
    },
    {
      "cell_type": "code",
      "execution_count": null,
      "metadata": {
        "colab": {
          "base_uri": "https://localhost:8080/",
          "height": 844
        },
        "id": "w3YAPQEWtzDn",
        "outputId": "119058ea-4042-4862-aad0-f4d85878be62"
      },
      "outputs": [
        {
          "data": {
            "image/png": "[encoded data removed]",
            "text/plain": [
              "<Figure size 1152x576 with 1 Axes>"
            ]
          },
          "metadata": {
            "needs_background": "light"
          },
          "output_type": "display_data"
        }
      ],
      "source": [
        "impressions_by_type = data.groupby('Account Type')['Total Impressions'].sum()\n",
        "plt.rcParams['figure.figsize'] = [16,8]\n",
        "impressions_by_type.plot(kind='bar')\n",
        "plt.xlabel('Account Type')\n",
        "plt.ylabel('Total Impressions')\n",
        "plt.title('Total Impressions by Account Type')\n",
        "plt.show()"
      ]
    },
    {
      "cell_type": "code",
      "execution_count": null,
      "metadata": {
        "colab": {
          "base_uri": "https://localhost:8080/",
          "height": 844
        },
        "id": "QVPOIK_wy7tV",
        "outputId": "daf7c1a0-0c4e-485b-acd6-95fa1c48b9fb"
      },
      "outputs": [
        {
          "data": {
            "image/png": "[encoded data removed]",
            "text/plain": [
              "<Figure size 1152x576 with 1 Axes>"
            ]
          },
          "metadata": {
            "needs_background": "light"
          },
          "output_type": "display_data"
        }
      ],
      "source": [
        "engagements_by_type = data.groupby('Account Type')['Total Engagements'].sum()\n",
        "plt.rcParams['figure.figsize'] = [16,8]\n",
        "impressions_by_type.plot(kind='bar')\n",
        "plt.xlabel('Account Type')\n",
        "plt.ylabel('Total Engagements')\n",
        "plt.title('Total Engagements by Account Type')\n",
        "plt.show()"
      ]
    },
    {
      "cell_type": "markdown",
      "metadata": {
        "id": "Bb7eh9oeyZPn"
      },
      "source": [
        "# Task 1\n",
        "#### What is the typical engagement rate we can expect? What’s the likelihood that we can achieve a 15% engagement rate?"
      ]
    },
    {
      "cell_type": "code",
      "execution_count": null,
      "metadata": {
        "colab": {
          "base_uri": "https://localhost:8080/",
          "height": 424
        },
        "id": "JhGyK4LqyjmA",
        "outputId": "8d9a8097-2214-4577-af9c-d24f37cbe68c"
      },
      "outputs": [
        {
          "data": {
            "text/html": [
              "<div>\n",
              "<style scoped>\n",
              "    .dataframe tbody tr th:only-of-type {\n",
              "        vertical-align: middle;\n",
              "    }\n",
              "\n",
              "    .dataframe tbody tr th {\n",
              "        vertical-align: top;\n",
              "    }\n",
              "\n",
              "    .dataframe thead th {\n",
              "        text-align: right;\n",
              "    }\n",
              "</style>\n",
              "<table border=\"1\" class=\"dataframe\">\n",
              "  <thead>\n",
              "    <tr style=\"text-align: right;\">\n",
              "      <th></th>\n",
              "      <th>Account</th>\n",
              "      <th>Account Type</th>\n",
              "      <th>Campaign Name</th>\n",
              "      <th>Total Impressions</th>\n",
              "      <th>Total Engagements</th>\n",
              "      <th>Media Type</th>\n",
              "      <th>Date</th>\n",
              "      <th>Hour</th>\n",
              "      <th>Engagement Rate</th>\n",
              "    </tr>\n",
              "  </thead>\n",
              "  <tbody>\n",
              "    <tr>\n",
              "      <th>0</th>\n",
              "      <td>CSGO</td>\n",
              "      <td>TWITTER</td>\n",
              "      <td>N/A</td>\n",
              "      <td>0.0</td>\n",
              "      <td>0.0</td>\n",
              "      <td>Text</td>\n",
              "      <td>2023-03-31</td>\n",
              "      <td>19</td>\n",
              "      <td>NaN</td>\n",
              "    </tr>\n",
              "    <tr>\n",
              "      <th>1</th>\n",
              "      <td>CSGO</td>\n",
              "      <td>TWITTER</td>\n",
              "      <td>N/A</td>\n",
              "      <td>0.0</td>\n",
              "      <td>0.0</td>\n",
              "      <td>Text</td>\n",
              "      <td>2023-03-31</td>\n",
              "      <td>19</td>\n",
              "      <td>NaN</td>\n",
              "    </tr>\n",
              "    <tr>\n",
              "      <th>2</th>\n",
              "      <td>CSGO</td>\n",
              "      <td>TWITTER</td>\n",
              "      <td>N/A</td>\n",
              "      <td>0.0</td>\n",
              "      <td>0.0</td>\n",
              "      <td>Text</td>\n",
              "      <td>2023-03-31</td>\n",
              "      <td>19</td>\n",
              "      <td>NaN</td>\n",
              "    </tr>\n",
              "    <tr>\n",
              "      <th>3</th>\n",
              "      <td>CSGO</td>\n",
              "      <td>TWITTER</td>\n",
              "      <td>N/A</td>\n",
              "      <td>0.0</td>\n",
              "      <td>0.0</td>\n",
              "      <td>Text</td>\n",
              "      <td>2023-03-31</td>\n",
              "      <td>19</td>\n",
              "      <td>NaN</td>\n",
              "    </tr>\n",
              "    <tr>\n",
              "      <th>4</th>\n",
              "      <td>CSGO</td>\n",
              "      <td>TWITTER</td>\n",
              "      <td>Community Engagement</td>\n",
              "      <td>9517.0</td>\n",
              "      <td>1215.0</td>\n",
              "      <td>Video</td>\n",
              "      <td>2023-03-31</td>\n",
              "      <td>19</td>\n",
              "      <td>12.766628</td>\n",
              "    </tr>\n",
              "    <tr>\n",
              "      <th>...</th>\n",
              "      <td>...</td>\n",
              "      <td>...</td>\n",
              "      <td>...</td>\n",
              "      <td>...</td>\n",
              "      <td>...</td>\n",
              "      <td>...</td>\n",
              "      <td>...</td>\n",
              "      <td>...</td>\n",
              "      <td>...</td>\n",
              "    </tr>\n",
              "    <tr>\n",
              "      <th>3474</th>\n",
              "      <td>CSGO</td>\n",
              "      <td>TWITTER</td>\n",
              "      <td>N/A</td>\n",
              "      <td>0.0</td>\n",
              "      <td>0.0</td>\n",
              "      <td>Link</td>\n",
              "      <td>2023-01-03</td>\n",
              "      <td>10</td>\n",
              "      <td>NaN</td>\n",
              "    </tr>\n",
              "    <tr>\n",
              "      <th>3475</th>\n",
              "      <td>CSGO</td>\n",
              "      <td>TWITTER</td>\n",
              "      <td>N/A</td>\n",
              "      <td>0.0</td>\n",
              "      <td>0.0</td>\n",
              "      <td>Link</td>\n",
              "      <td>2023-01-03</td>\n",
              "      <td>10</td>\n",
              "      <td>NaN</td>\n",
              "    </tr>\n",
              "    <tr>\n",
              "      <th>3476</th>\n",
              "      <td>CSGO</td>\n",
              "      <td>TWITTER</td>\n",
              "      <td>N/A</td>\n",
              "      <td>0.0</td>\n",
              "      <td>0.0</td>\n",
              "      <td>Link</td>\n",
              "      <td>2023-01-03</td>\n",
              "      <td>10</td>\n",
              "      <td>NaN</td>\n",
              "    </tr>\n",
              "    <tr>\n",
              "      <th>3477</th>\n",
              "      <td>CSGO</td>\n",
              "      <td>TWITTER</td>\n",
              "      <td>N/A</td>\n",
              "      <td>2116.0</td>\n",
              "      <td>42.0</td>\n",
              "      <td>Text</td>\n",
              "      <td>2023-01-03</td>\n",
              "      <td>10</td>\n",
              "      <td>1.984877</td>\n",
              "    </tr>\n",
              "    <tr>\n",
              "      <th>3478</th>\n",
              "      <td>General</td>\n",
              "      <td>FBPAGE</td>\n",
              "      <td>N/A</td>\n",
              "      <td>0.0</td>\n",
              "      <td>0.0</td>\n",
              "      <td>Photo</td>\n",
              "      <td>2023-01-01</td>\n",
              "      <td>14</td>\n",
              "      <td>NaN</td>\n",
              "    </tr>\n",
              "  </tbody>\n",
              "</table>\n",
              "<p>3479 rows × 9 columns</p>\n",
              "</div>"
            ],
            "text/plain": [
              "       Account Account Type          Campaign Name  Total Impressions  \\\n",
              "0         CSGO      TWITTER                   N/A                 0.0   \n",
              "1         CSGO      TWITTER                   N/A                 0.0   \n",
              "2         CSGO      TWITTER                   N/A                 0.0   \n",
              "3         CSGO      TWITTER                   N/A                 0.0   \n",
              "4         CSGO      TWITTER  Community Engagement              9517.0   \n",
              "...        ...          ...                    ...                ...   \n",
              "3474      CSGO      TWITTER                   N/A                 0.0   \n",
              "3475      CSGO      TWITTER                   N/A                 0.0   \n",
              "3476      CSGO      TWITTER                   N/A                 0.0   \n",
              "3477      CSGO      TWITTER                   N/A              2116.0   \n",
              "3478  General        FBPAGE                   N/A                 0.0   \n",
              "\n",
              "      Total Engagements Media Type        Date Hour  Engagement Rate  \n",
              "0                   0.0       Text  2023-03-31   19              NaN  \n",
              "1                   0.0       Text  2023-03-31   19              NaN  \n",
              "2                   0.0       Text  2023-03-31   19              NaN  \n",
              "3                   0.0       Text  2023-03-31   19              NaN  \n",
              "4                1215.0      Video  2023-03-31   19        12.766628  \n",
              "...                 ...        ...         ...  ...              ...  \n",
              "3474                0.0       Link  2023-01-03   10              NaN  \n",
              "3475                0.0       Link  2023-01-03   10              NaN  \n",
              "3476                0.0       Link  2023-01-03   10              NaN  \n",
              "3477               42.0       Text  2023-01-03   10         1.984877  \n",
              "3478                0.0      Photo  2023-01-01   14              NaN  \n",
              "\n",
              "[3479 rows x 9 columns]"
            ]
          },
          "execution_count": 72,
          "metadata": {},
          "output_type": "execute_result"
        }
      ],
      "source": [
        "data['Engagement Rate'] = (data['Total Engagements'] / data['Total Impressions']) * 100\n",
        "data1 = data\n",
        "data1"
      ]
    },
    {
      "cell_type": "markdown",
      "metadata": {
        "id": "gnOA7ZY6rVda"
      },
      "source": [
        "### Null Engagement Rate values are dropped"
      ]
    },
    {
      "cell_type": "code",
      "execution_count": null,
      "metadata": {
        "colab": {
          "base_uri": "https://localhost:8080/",
          "height": 424
        },
        "id": "08mavWa82m_a",
        "outputId": "a4b23648-3cc2-4e91-e27e-46d31322d301"
      },
      "outputs": [
        {
          "data": {
            "text/html": [
              "<div>\n",
              "<style scoped>\n",
              "    .dataframe tbody tr th:only-of-type {\n",
              "        vertical-align: middle;\n",
              "    }\n",
              "\n",
              "    .dataframe tbody tr th {\n",
              "        vertical-align: top;\n",
              "    }\n",
              "\n",
              "    .dataframe thead th {\n",
              "        text-align: right;\n",
              "    }\n",
              "</style>\n",
              "<table border=\"1\" class=\"dataframe\">\n",
              "  <thead>\n",
              "    <tr style=\"text-align: right;\">\n",
              "      <th></th>\n",
              "      <th>Account</th>\n",
              "      <th>Account Type</th>\n",
              "      <th>Campaign Name</th>\n",
              "      <th>Total Impressions</th>\n",
              "      <th>Total Engagements</th>\n",
              "      <th>Media Type</th>\n",
              "      <th>Date</th>\n",
              "      <th>Hour</th>\n",
              "      <th>Engagement Rate</th>\n",
              "    </tr>\n",
              "  </thead>\n",
              "  <tbody>\n",
              "    <tr>\n",
              "      <th>4</th>\n",
              "      <td>CSGO</td>\n",
              "      <td>TWITTER</td>\n",
              "      <td>Community Engagement</td>\n",
              "      <td>9517.0</td>\n",
              "      <td>1215.0</td>\n",
              "      <td>Video</td>\n",
              "      <td>2023-03-31</td>\n",
              "      <td>19</td>\n",
              "      <td>12.766628</td>\n",
              "    </tr>\n",
              "    <tr>\n",
              "      <th>6</th>\n",
              "      <td>CSGO</td>\n",
              "      <td>TWITTER</td>\n",
              "      <td>Community Engagement</td>\n",
              "      <td>1882.0</td>\n",
              "      <td>83.0</td>\n",
              "      <td>Photo</td>\n",
              "      <td>2023-03-31</td>\n",
              "      <td>19</td>\n",
              "      <td>4.410202</td>\n",
              "    </tr>\n",
              "    <tr>\n",
              "      <th>7</th>\n",
              "      <td>CSGO</td>\n",
              "      <td>TWITTER</td>\n",
              "      <td>Community Engagement</td>\n",
              "      <td>17892.0</td>\n",
              "      <td>3076.0</td>\n",
              "      <td>Video</td>\n",
              "      <td>2023-03-31</td>\n",
              "      <td>19</td>\n",
              "      <td>17.192041</td>\n",
              "    </tr>\n",
              "    <tr>\n",
              "      <th>9</th>\n",
              "      <td>CSGO</td>\n",
              "      <td>TWITTER</td>\n",
              "      <td>Community Engagement</td>\n",
              "      <td>13874.0</td>\n",
              "      <td>1447.0</td>\n",
              "      <td>Video</td>\n",
              "      <td>2023-03-31</td>\n",
              "      <td>18</td>\n",
              "      <td>10.429581</td>\n",
              "    </tr>\n",
              "    <tr>\n",
              "      <th>10</th>\n",
              "      <td>General</td>\n",
              "      <td>FBPAGE</td>\n",
              "      <td>Community Engagement</td>\n",
              "      <td>37692.0</td>\n",
              "      <td>8044.0</td>\n",
              "      <td>Photo</td>\n",
              "      <td>2023-03-31</td>\n",
              "      <td>18</td>\n",
              "      <td>21.341399</td>\n",
              "    </tr>\n",
              "    <tr>\n",
              "      <th>...</th>\n",
              "      <td>...</td>\n",
              "      <td>...</td>\n",
              "      <td>...</td>\n",
              "      <td>...</td>\n",
              "      <td>...</td>\n",
              "      <td>...</td>\n",
              "      <td>...</td>\n",
              "      <td>...</td>\n",
              "      <td>...</td>\n",
              "    </tr>\n",
              "    <tr>\n",
              "      <th>3463</th>\n",
              "      <td>General</td>\n",
              "      <td>TWITTER</td>\n",
              "      <td>N/A</td>\n",
              "      <td>393.0</td>\n",
              "      <td>18.0</td>\n",
              "      <td>Text</td>\n",
              "      <td>2023-01-04</td>\n",
              "      <td>13</td>\n",
              "      <td>4.580153</td>\n",
              "    </tr>\n",
              "    <tr>\n",
              "      <th>3464</th>\n",
              "      <td>General</td>\n",
              "      <td>TWITTER</td>\n",
              "      <td>Community Engagement</td>\n",
              "      <td>136660.0</td>\n",
              "      <td>2371.0</td>\n",
              "      <td>Photo</td>\n",
              "      <td>2023-01-04</td>\n",
              "      <td>13</td>\n",
              "      <td>1.734963</td>\n",
              "    </tr>\n",
              "    <tr>\n",
              "      <th>3465</th>\n",
              "      <td>General</td>\n",
              "      <td>FBPAGE</td>\n",
              "      <td>Community Engagement</td>\n",
              "      <td>29051.0</td>\n",
              "      <td>811.0</td>\n",
              "      <td>Photo</td>\n",
              "      <td>2023-01-04</td>\n",
              "      <td>13</td>\n",
              "      <td>2.791642</td>\n",
              "    </tr>\n",
              "    <tr>\n",
              "      <th>3470</th>\n",
              "      <td>General</td>\n",
              "      <td>TWITTER</td>\n",
              "      <td>N/A</td>\n",
              "      <td>7704.0</td>\n",
              "      <td>153.0</td>\n",
              "      <td>Text</td>\n",
              "      <td>2023-01-03</td>\n",
              "      <td>13</td>\n",
              "      <td>1.985981</td>\n",
              "    </tr>\n",
              "    <tr>\n",
              "      <th>3477</th>\n",
              "      <td>CSGO</td>\n",
              "      <td>TWITTER</td>\n",
              "      <td>N/A</td>\n",
              "      <td>2116.0</td>\n",
              "      <td>42.0</td>\n",
              "      <td>Text</td>\n",
              "      <td>2023-01-03</td>\n",
              "      <td>10</td>\n",
              "      <td>1.984877</td>\n",
              "    </tr>\n",
              "  </tbody>\n",
              "</table>\n",
              "<p>2735 rows × 9 columns</p>\n",
              "</div>"
            ],
            "text/plain": [
              "       Account Account Type          Campaign Name  Total Impressions  \\\n",
              "4         CSGO      TWITTER  Community Engagement              9517.0   \n",
              "6         CSGO      TWITTER  Community Engagement              1882.0   \n",
              "7         CSGO      TWITTER  Community Engagement             17892.0   \n",
              "9         CSGO      TWITTER  Community Engagement             13874.0   \n",
              "10    General        FBPAGE  Community Engagement             37692.0   \n",
              "...        ...          ...                    ...                ...   \n",
              "3463  General       TWITTER                   N/A               393.0   \n",
              "3464  General       TWITTER  Community Engagement            136660.0   \n",
              "3465  General        FBPAGE  Community Engagement             29051.0   \n",
              "3470  General       TWITTER                   N/A              7704.0   \n",
              "3477      CSGO      TWITTER                   N/A              2116.0   \n",
              "\n",
              "      Total Engagements Media Type        Date Hour  Engagement Rate  \n",
              "4                1215.0      Video  2023-03-31   19        12.766628  \n",
              "6                  83.0      Photo  2023-03-31   19         4.410202  \n",
              "7                3076.0      Video  2023-03-31   19        17.192041  \n",
              "9                1447.0      Video  2023-03-31   18        10.429581  \n",
              "10               8044.0      Photo  2023-03-31   18        21.341399  \n",
              "...                 ...        ...         ...  ...              ...  \n",
              "3463               18.0       Text  2023-01-04   13         4.580153  \n",
              "3464             2371.0      Photo  2023-01-04   13         1.734963  \n",
              "3465              811.0      Photo  2023-01-04   13         2.791642  \n",
              "3470              153.0       Text  2023-01-03   13         1.985981  \n",
              "3477               42.0       Text  2023-01-03   10         1.984877  \n",
              "\n",
              "[2735 rows x 9 columns]"
            ]
          },
          "execution_count": 73,
          "metadata": {},
          "output_type": "execute_result"
        }
      ],
      "source": [
        "data2 = data1.dropna()\n",
        "data2"
      ]
    },
    {
      "cell_type": "markdown",
      "metadata": {
        "id": "ecnB69VFrVda"
      },
      "source": [
        "### Average Engagement Rate for the data is 40.49%"
      ]
    },
    {
      "cell_type": "code",
      "execution_count": null,
      "metadata": {
        "colab": {
          "base_uri": "https://localhost:8080/"
        },
        "id": "3-fNesA0AuYK",
        "outputId": "6257005b-9024-4420-ae6d-bff24940c005"
      },
      "outputs": [
        {
          "name": "stdout",
          "output_type": "stream",
          "text": [
            "Average Engagement Rate: 40.49%\n"
          ]
        }
      ],
      "source": [
        "engagement_data = data2['Engagement Rate'] \n",
        "average_engagement_rate = engagement_data.mean()\n",
        "print(\"Average Engagement Rate: {:.2f}%\".format(average_engagement_rate))\n",
        "\n"
      ]
    },
    {
      "cell_type": "markdown",
      "metadata": {
        "id": "Bb3-90zlrVdb"
      },
      "source": [
        "### Outliers for engagement rate have been discovered \n",
        "### Engagement rate > 100 has been considered as outlier"
      ]
    },
    {
      "cell_type": "code",
      "execution_count": null,
      "metadata": {
        "colab": {
          "base_uri": "https://localhost:8080/"
        },
        "id": "rp37RkJjCaWP",
        "outputId": "8e83b396-d645-4730-bc9c-eeadfa0ce0e9"
      },
      "outputs": [
        {
          "name": "stdout",
          "output_type": "stream",
          "text": [
            "Values in Range 0 - 99: 2731\n",
            "Values in Range 100 - 199: 1\n",
            "Values in Range 800 - 899: 1\n",
            "Values in Range 1200 - 1299: 1\n",
            "Values in Range 94000 - 94099: 1\n"
          ]
        }
      ],
      "source": [
        "numerical_data = data2['Engagement Rate']\n",
        "bins = range(0, int(numerical_data.max()) + 101, 100)\n",
        "value_counts = pd.cut(numerical_data, bins=bins, right=False).value_counts().sort_index()\n",
        "for i, count in enumerate(value_counts):\n",
        "  if count >0:\n",
        "    print(f\"Values in Range {i * 100} - {(i+1) * 100 - 1}: {count}\")\n"
      ]
    },
    {
      "cell_type": "markdown",
      "metadata": {
        "id": "ngaSkksXrVdb"
      },
      "source": [
        "### Data consisting of Engagement Rate < 100 has been considered"
      ]
    },
    {
      "cell_type": "code",
      "execution_count": null,
      "metadata": {
        "colab": {
          "base_uri": "https://localhost:8080/",
          "height": 424
        },
        "id": "TnFz6HRbMgic",
        "outputId": "81bb080c-bf5c-4fd8-d88b-6a080f92808e"
      },
      "outputs": [
        {
          "data": {
            "text/html": [
              "<div>\n",
              "<style scoped>\n",
              "    .dataframe tbody tr th:only-of-type {\n",
              "        vertical-align: middle;\n",
              "    }\n",
              "\n",
              "    .dataframe tbody tr th {\n",
              "        vertical-align: top;\n",
              "    }\n",
              "\n",
              "    .dataframe thead th {\n",
              "        text-align: right;\n",
              "    }\n",
              "</style>\n",
              "<table border=\"1\" class=\"dataframe\">\n",
              "  <thead>\n",
              "    <tr style=\"text-align: right;\">\n",
              "      <th></th>\n",
              "      <th>Account</th>\n",
              "      <th>Account Type</th>\n",
              "      <th>Campaign Name</th>\n",
              "      <th>Total Impressions</th>\n",
              "      <th>Total Engagements</th>\n",
              "      <th>Media Type</th>\n",
              "      <th>Date</th>\n",
              "      <th>Hour</th>\n",
              "      <th>Engagement Rate</th>\n",
              "    </tr>\n",
              "  </thead>\n",
              "  <tbody>\n",
              "    <tr>\n",
              "      <th>4</th>\n",
              "      <td>CSGO</td>\n",
              "      <td>TWITTER</td>\n",
              "      <td>Community Engagement</td>\n",
              "      <td>9517.0</td>\n",
              "      <td>1215.0</td>\n",
              "      <td>Video</td>\n",
              "      <td>2023-03-31</td>\n",
              "      <td>19</td>\n",
              "      <td>12.766628</td>\n",
              "    </tr>\n",
              "    <tr>\n",
              "      <th>6</th>\n",
              "      <td>CSGO</td>\n",
              "      <td>TWITTER</td>\n",
              "      <td>Community Engagement</td>\n",
              "      <td>1882.0</td>\n",
              "      <td>83.0</td>\n",
              "      <td>Photo</td>\n",
              "      <td>2023-03-31</td>\n",
              "      <td>19</td>\n",
              "      <td>4.410202</td>\n",
              "    </tr>\n",
              "    <tr>\n",
              "      <th>7</th>\n",
              "      <td>CSGO</td>\n",
              "      <td>TWITTER</td>\n",
              "      <td>Community Engagement</td>\n",
              "      <td>17892.0</td>\n",
              "      <td>3076.0</td>\n",
              "      <td>Video</td>\n",
              "      <td>2023-03-31</td>\n",
              "      <td>19</td>\n",
              "      <td>17.192041</td>\n",
              "    </tr>\n",
              "    <tr>\n",
              "      <th>9</th>\n",
              "      <td>CSGO</td>\n",
              "      <td>TWITTER</td>\n",
              "      <td>Community Engagement</td>\n",
              "      <td>13874.0</td>\n",
              "      <td>1447.0</td>\n",
              "      <td>Video</td>\n",
              "      <td>2023-03-31</td>\n",
              "      <td>18</td>\n",
              "      <td>10.429581</td>\n",
              "    </tr>\n",
              "    <tr>\n",
              "      <th>10</th>\n",
              "      <td>General</td>\n",
              "      <td>FBPAGE</td>\n",
              "      <td>Community Engagement</td>\n",
              "      <td>37692.0</td>\n",
              "      <td>8044.0</td>\n",
              "      <td>Photo</td>\n",
              "      <td>2023-03-31</td>\n",
              "      <td>18</td>\n",
              "      <td>21.341399</td>\n",
              "    </tr>\n",
              "    <tr>\n",
              "      <th>...</th>\n",
              "      <td>...</td>\n",
              "      <td>...</td>\n",
              "      <td>...</td>\n",
              "      <td>...</td>\n",
              "      <td>...</td>\n",
              "      <td>...</td>\n",
              "      <td>...</td>\n",
              "      <td>...</td>\n",
              "      <td>...</td>\n",
              "    </tr>\n",
              "    <tr>\n",
              "      <th>3463</th>\n",
              "      <td>General</td>\n",
              "      <td>TWITTER</td>\n",
              "      <td>N/A</td>\n",
              "      <td>393.0</td>\n",
              "      <td>18.0</td>\n",
              "      <td>Text</td>\n",
              "      <td>2023-01-04</td>\n",
              "      <td>13</td>\n",
              "      <td>4.580153</td>\n",
              "    </tr>\n",
              "    <tr>\n",
              "      <th>3464</th>\n",
              "      <td>General</td>\n",
              "      <td>TWITTER</td>\n",
              "      <td>Community Engagement</td>\n",
              "      <td>136660.0</td>\n",
              "      <td>2371.0</td>\n",
              "      <td>Photo</td>\n",
              "      <td>2023-01-04</td>\n",
              "      <td>13</td>\n",
              "      <td>1.734963</td>\n",
              "    </tr>\n",
              "    <tr>\n",
              "      <th>3465</th>\n",
              "      <td>General</td>\n",
              "      <td>FBPAGE</td>\n",
              "      <td>Community Engagement</td>\n",
              "      <td>29051.0</td>\n",
              "      <td>811.0</td>\n",
              "      <td>Photo</td>\n",
              "      <td>2023-01-04</td>\n",
              "      <td>13</td>\n",
              "      <td>2.791642</td>\n",
              "    </tr>\n",
              "    <tr>\n",
              "      <th>3470</th>\n",
              "      <td>General</td>\n",
              "      <td>TWITTER</td>\n",
              "      <td>N/A</td>\n",
              "      <td>7704.0</td>\n",
              "      <td>153.0</td>\n",
              "      <td>Text</td>\n",
              "      <td>2023-01-03</td>\n",
              "      <td>13</td>\n",
              "      <td>1.985981</td>\n",
              "    </tr>\n",
              "    <tr>\n",
              "      <th>3477</th>\n",
              "      <td>CSGO</td>\n",
              "      <td>TWITTER</td>\n",
              "      <td>N/A</td>\n",
              "      <td>2116.0</td>\n",
              "      <td>42.0</td>\n",
              "      <td>Text</td>\n",
              "      <td>2023-01-03</td>\n",
              "      <td>10</td>\n",
              "      <td>1.984877</td>\n",
              "    </tr>\n",
              "  </tbody>\n",
              "</table>\n",
              "<p>2731 rows × 9 columns</p>\n",
              "</div>"
            ],
            "text/plain": [
              "       Account Account Type          Campaign Name  Total Impressions  \\\n",
              "4         CSGO      TWITTER  Community Engagement              9517.0   \n",
              "6         CSGO      TWITTER  Community Engagement              1882.0   \n",
              "7         CSGO      TWITTER  Community Engagement             17892.0   \n",
              "9         CSGO      TWITTER  Community Engagement             13874.0   \n",
              "10    General        FBPAGE  Community Engagement             37692.0   \n",
              "...        ...          ...                    ...                ...   \n",
              "3463  General       TWITTER                   N/A               393.0   \n",
              "3464  General       TWITTER  Community Engagement            136660.0   \n",
              "3465  General        FBPAGE  Community Engagement             29051.0   \n",
              "3470  General       TWITTER                   N/A              7704.0   \n",
              "3477      CSGO      TWITTER                   N/A              2116.0   \n",
              "\n",
              "      Total Engagements Media Type        Date Hour  Engagement Rate  \n",
              "4                1215.0      Video  2023-03-31   19        12.766628  \n",
              "6                  83.0      Photo  2023-03-31   19         4.410202  \n",
              "7                3076.0      Video  2023-03-31   19        17.192041  \n",
              "9                1447.0      Video  2023-03-31   18        10.429581  \n",
              "10               8044.0      Photo  2023-03-31   18        21.341399  \n",
              "...                 ...        ...         ...  ...              ...  \n",
              "3463               18.0       Text  2023-01-04   13         4.580153  \n",
              "3464             2371.0      Photo  2023-01-04   13         1.734963  \n",
              "3465              811.0      Photo  2023-01-04   13         2.791642  \n",
              "3470              153.0       Text  2023-01-03   13         1.985981  \n",
              "3477               42.0       Text  2023-01-03   10         1.984877  \n",
              "\n",
              "[2731 rows x 9 columns]"
            ]
          },
          "execution_count": 76,
          "metadata": {},
          "output_type": "execute_result"
        }
      ],
      "source": [
        "data_out = data2[(data2['Engagement Rate'] < 100)]\n",
        "data_out"
      ]
    },
    {
      "cell_type": "markdown",
      "metadata": {
        "id": "bh0Qbjy7rVdb"
      },
      "source": [
        "### Average Engagement Rate is 5.31%  "
      ]
    },
    {
      "cell_type": "code",
      "execution_count": null,
      "metadata": {
        "colab": {
          "base_uri": "https://localhost:8080/"
        },
        "id": "XU59TlmjMvNb",
        "outputId": "74d910a5-60f7-4690-8492-055863bf51d8"
      },
      "outputs": [
        {
          "name": "stdout",
          "output_type": "stream",
          "text": [
            "Average Engagement Rate: 5.31%\n"
          ]
        }
      ],
      "source": [
        "engagement_data = data_out['Engagement Rate'] \n",
        "average_engagement_rate = engagement_data.mean()\n",
        "print(\"Average Engagement Rate: {:.2f}%\".format(average_engagement_rate))"
      ]
    },
    {
      "cell_type": "markdown",
      "metadata": {
        "id": "1MfXE2zWrVdc"
      },
      "source": [
        "### To acheieve an engagement rate of 15% data consisting of engagement rate of 10 to 30 is considered and analysis has been made on that data.\n"
      ]
    },
    {
      "cell_type": "code",
      "execution_count": null,
      "metadata": {
        "colab": {
          "base_uri": "https://localhost:8080/",
          "height": 424
        },
        "id": "LVX-_QJAGYvp",
        "outputId": "2c6be8b3-0ed4-489e-b333-ae4c11adfae1"
      },
      "outputs": [
        {
          "data": {
            "text/html": [
              "<div>\n",
              "<style scoped>\n",
              "    .dataframe tbody tr th:only-of-type {\n",
              "        vertical-align: middle;\n",
              "    }\n",
              "\n",
              "    .dataframe tbody tr th {\n",
              "        vertical-align: top;\n",
              "    }\n",
              "\n",
              "    .dataframe thead th {\n",
              "        text-align: right;\n",
              "    }\n",
              "</style>\n",
              "<table border=\"1\" class=\"dataframe\">\n",
              "  <thead>\n",
              "    <tr style=\"text-align: right;\">\n",
              "      <th></th>\n",
              "      <th>Account</th>\n",
              "      <th>Account Type</th>\n",
              "      <th>Campaign Name</th>\n",
              "      <th>Total Impressions</th>\n",
              "      <th>Total Engagements</th>\n",
              "      <th>Media Type</th>\n",
              "      <th>Date</th>\n",
              "      <th>Hour</th>\n",
              "      <th>Engagement Rate</th>\n",
              "    </tr>\n",
              "  </thead>\n",
              "  <tbody>\n",
              "    <tr>\n",
              "      <th>4</th>\n",
              "      <td>CSGO</td>\n",
              "      <td>TWITTER</td>\n",
              "      <td>Community Engagement</td>\n",
              "      <td>9517.0</td>\n",
              "      <td>1215.0</td>\n",
              "      <td>Video</td>\n",
              "      <td>2023-03-31</td>\n",
              "      <td>19</td>\n",
              "      <td>12.766628</td>\n",
              "    </tr>\n",
              "    <tr>\n",
              "      <th>7</th>\n",
              "      <td>CSGO</td>\n",
              "      <td>TWITTER</td>\n",
              "      <td>Community Engagement</td>\n",
              "      <td>17892.0</td>\n",
              "      <td>3076.0</td>\n",
              "      <td>Video</td>\n",
              "      <td>2023-03-31</td>\n",
              "      <td>19</td>\n",
              "      <td>17.192041</td>\n",
              "    </tr>\n",
              "    <tr>\n",
              "      <th>9</th>\n",
              "      <td>CSGO</td>\n",
              "      <td>TWITTER</td>\n",
              "      <td>Community Engagement</td>\n",
              "      <td>13874.0</td>\n",
              "      <td>1447.0</td>\n",
              "      <td>Video</td>\n",
              "      <td>2023-03-31</td>\n",
              "      <td>18</td>\n",
              "      <td>10.429581</td>\n",
              "    </tr>\n",
              "    <tr>\n",
              "      <th>10</th>\n",
              "      <td>General</td>\n",
              "      <td>FBPAGE</td>\n",
              "      <td>Community Engagement</td>\n",
              "      <td>37692.0</td>\n",
              "      <td>8044.0</td>\n",
              "      <td>Photo</td>\n",
              "      <td>2023-03-31</td>\n",
              "      <td>18</td>\n",
              "      <td>21.341399</td>\n",
              "    </tr>\n",
              "    <tr>\n",
              "      <th>11</th>\n",
              "      <td>DOTA2</td>\n",
              "      <td>TWITTER</td>\n",
              "      <td>N/A</td>\n",
              "      <td>1013.0</td>\n",
              "      <td>153.0</td>\n",
              "      <td>Link</td>\n",
              "      <td>2023-03-31</td>\n",
              "      <td>18</td>\n",
              "      <td>15.103653</td>\n",
              "    </tr>\n",
              "    <tr>\n",
              "      <th>...</th>\n",
              "      <td>...</td>\n",
              "      <td>...</td>\n",
              "      <td>...</td>\n",
              "      <td>...</td>\n",
              "      <td>...</td>\n",
              "      <td>...</td>\n",
              "      <td>...</td>\n",
              "      <td>...</td>\n",
              "      <td>...</td>\n",
              "    </tr>\n",
              "    <tr>\n",
              "      <th>3376</th>\n",
              "      <td>DOTA2</td>\n",
              "      <td>TWITTER</td>\n",
              "      <td>N/A</td>\n",
              "      <td>22013.0</td>\n",
              "      <td>4465.0</td>\n",
              "      <td>Video</td>\n",
              "      <td>2023-01-10</td>\n",
              "      <td>14</td>\n",
              "      <td>20.283469</td>\n",
              "    </tr>\n",
              "    <tr>\n",
              "      <th>3414</th>\n",
              "      <td>General</td>\n",
              "      <td>FBPAGE</td>\n",
              "      <td>N/A</td>\n",
              "      <td>33609.0</td>\n",
              "      <td>5042.0</td>\n",
              "      <td>Video</td>\n",
              "      <td>2023-01-10</td>\n",
              "      <td>09</td>\n",
              "      <td>15.001934</td>\n",
              "    </tr>\n",
              "    <tr>\n",
              "      <th>3421</th>\n",
              "      <td>DOTA2</td>\n",
              "      <td>TWITTER</td>\n",
              "      <td>N/A</td>\n",
              "      <td>837.0</td>\n",
              "      <td>101.0</td>\n",
              "      <td>Video</td>\n",
              "      <td>2023-01-09</td>\n",
              "      <td>15</td>\n",
              "      <td>12.066906</td>\n",
              "    </tr>\n",
              "    <tr>\n",
              "      <th>3433</th>\n",
              "      <td>General</td>\n",
              "      <td>FBPAGE</td>\n",
              "      <td>N/A</td>\n",
              "      <td>107752.0</td>\n",
              "      <td>29860.0</td>\n",
              "      <td>Text</td>\n",
              "      <td>2023-01-09</td>\n",
              "      <td>10</td>\n",
              "      <td>27.711783</td>\n",
              "    </tr>\n",
              "    <tr>\n",
              "      <th>3461</th>\n",
              "      <td>General</td>\n",
              "      <td>FBPAGE</td>\n",
              "      <td>Community Engagement</td>\n",
              "      <td>155521.0</td>\n",
              "      <td>19098.0</td>\n",
              "      <td>Photo</td>\n",
              "      <td>2023-01-04</td>\n",
              "      <td>14</td>\n",
              "      <td>12.280014</td>\n",
              "    </tr>\n",
              "  </tbody>\n",
              "</table>\n",
              "<p>339 rows × 9 columns</p>\n",
              "</div>"
            ],
            "text/plain": [
              "       Account Account Type          Campaign Name  Total Impressions  \\\n",
              "4         CSGO      TWITTER  Community Engagement              9517.0   \n",
              "7         CSGO      TWITTER  Community Engagement             17892.0   \n",
              "9         CSGO      TWITTER  Community Engagement             13874.0   \n",
              "10    General        FBPAGE  Community Engagement             37692.0   \n",
              "11       DOTA2      TWITTER                   N/A              1013.0   \n",
              "...        ...          ...                    ...                ...   \n",
              "3376     DOTA2      TWITTER                   N/A             22013.0   \n",
              "3414  General        FBPAGE                   N/A             33609.0   \n",
              "3421     DOTA2      TWITTER                   N/A               837.0   \n",
              "3433  General        FBPAGE                   N/A            107752.0   \n",
              "3461  General        FBPAGE  Community Engagement            155521.0   \n",
              "\n",
              "      Total Engagements Media Type        Date Hour  Engagement Rate  \n",
              "4                1215.0      Video  2023-03-31   19        12.766628  \n",
              "7                3076.0      Video  2023-03-31   19        17.192041  \n",
              "9                1447.0      Video  2023-03-31   18        10.429581  \n",
              "10               8044.0      Photo  2023-03-31   18        21.341399  \n",
              "11                153.0       Link  2023-03-31   18        15.103653  \n",
              "...                 ...        ...         ...  ...              ...  \n",
              "3376             4465.0      Video  2023-01-10   14        20.283469  \n",
              "3414             5042.0      Video  2023-01-10   09        15.001934  \n",
              "3421              101.0      Video  2023-01-09   15        12.066906  \n",
              "3433            29860.0       Text  2023-01-09   10        27.711783  \n",
              "3461            19098.0      Photo  2023-01-04   14        12.280014  \n",
              "\n",
              "[339 rows x 9 columns]"
            ]
          },
          "execution_count": 78,
          "metadata": {},
          "output_type": "execute_result"
        }
      ],
      "source": [
        "data3 = data2[(data2['Engagement Rate'] > 10) & (data2['Engagement Rate'] < 30)]\n",
        "data3"
      ]
    },
    {
      "cell_type": "markdown",
      "metadata": {
        "id": "YvcQ9Aw7rVdc"
      },
      "source": [
        "### Distibution of Engagement Rates "
      ]
    },
    {
      "cell_type": "code",
      "execution_count": null,
      "metadata": {
        "colab": {
          "base_uri": "https://localhost:8080/",
          "height": 718
        },
        "id": "Pj4S0V_tUr_E",
        "outputId": "d6be9386-d255-4c5d-f01f-2f15fb148187"
      },
      "outputs": [
        {
          "data": {
            "image/png": "[encoded data removed]",
            "text/plain": [
              "<Figure size 1152x576 with 1 Axes>"
            ]
          },
          "metadata": {
            "needs_background": "light"
          },
          "output_type": "display_data"
        }
      ],
      "source": [
        "plt.hist(data3['Engagement Rate'], bins=10, edgecolor='black')\n",
        "plt.xlabel('Engagement Rate')\n",
        "plt.ylabel('Frequency')\n",
        "plt.title('Distribution of Engagement Rate (10-30)')\n",
        "plt.show()"
      ]
    },
    {
      "cell_type": "markdown",
      "metadata": {
        "id": "lKakpwNAc122"
      },
      "source": [
        "### The average engagement rate is 16.75% after removing the outliers\n"
      ]
    },
    {
      "cell_type": "code",
      "execution_count": null,
      "metadata": {
        "colab": {
          "base_uri": "https://localhost:8080/"
        },
        "id": "lV3OowQxWXql",
        "outputId": "379d146f-8288-4bdb-c393-7e368544285d"
      },
      "outputs": [
        {
          "name": "stdout",
          "output_type": "stream",
          "text": [
            "Average Engagement Rate: 16.75%\n"
          ]
        }
      ],
      "source": [
        "engagement_data = data3['Engagement Rate']  # Replace 'engagement_column' with the actual column name\n",
        "average_engagement_rate = engagement_data.mean()\n",
        "print(\"Average Engagement Rate: {:.2f}%\".format(average_engagement_rate))"
      ]
    },
    {
      "cell_type": "code",
      "execution_count": null,
      "metadata": {
        "colab": {
          "base_uri": "https://localhost:8080/",
          "height": 424
        },
        "id": "qBJipvZiWm0h",
        "outputId": "ef1ab4d0-1ef8-4b34-fdac-c2ef1a131409"
      },
      "outputs": [
        {
          "data": {
            "text/html": [
              "<div>\n",
              "<style scoped>\n",
              "    .dataframe tbody tr th:only-of-type {\n",
              "        vertical-align: middle;\n",
              "    }\n",
              "\n",
              "    .dataframe tbody tr th {\n",
              "        vertical-align: top;\n",
              "    }\n",
              "\n",
              "    .dataframe thead th {\n",
              "        text-align: right;\n",
              "    }\n",
              "</style>\n",
              "<table border=\"1\" class=\"dataframe\">\n",
              "  <thead>\n",
              "    <tr style=\"text-align: right;\">\n",
              "      <th></th>\n",
              "      <th>Account</th>\n",
              "      <th>Account Type</th>\n",
              "      <th>Campaign Name</th>\n",
              "      <th>Total Impressions</th>\n",
              "      <th>Total Engagements</th>\n",
              "      <th>Media Type</th>\n",
              "      <th>Date</th>\n",
              "      <th>Hour</th>\n",
              "      <th>Engagement Rate</th>\n",
              "    </tr>\n",
              "  </thead>\n",
              "  <tbody>\n",
              "    <tr>\n",
              "      <th>4</th>\n",
              "      <td>CSGO</td>\n",
              "      <td>TWITTER</td>\n",
              "      <td>Community Engagement</td>\n",
              "      <td>9517.0</td>\n",
              "      <td>1215.0</td>\n",
              "      <td>Video</td>\n",
              "      <td>2023-03-31</td>\n",
              "      <td>19</td>\n",
              "      <td>12.766628</td>\n",
              "    </tr>\n",
              "    <tr>\n",
              "      <th>7</th>\n",
              "      <td>CSGO</td>\n",
              "      <td>TWITTER</td>\n",
              "      <td>Community Engagement</td>\n",
              "      <td>17892.0</td>\n",
              "      <td>3076.0</td>\n",
              "      <td>Video</td>\n",
              "      <td>2023-03-31</td>\n",
              "      <td>19</td>\n",
              "      <td>17.192041</td>\n",
              "    </tr>\n",
              "    <tr>\n",
              "      <th>9</th>\n",
              "      <td>CSGO</td>\n",
              "      <td>TWITTER</td>\n",
              "      <td>Community Engagement</td>\n",
              "      <td>13874.0</td>\n",
              "      <td>1447.0</td>\n",
              "      <td>Video</td>\n",
              "      <td>2023-03-31</td>\n",
              "      <td>18</td>\n",
              "      <td>10.429581</td>\n",
              "    </tr>\n",
              "    <tr>\n",
              "      <th>10</th>\n",
              "      <td>General</td>\n",
              "      <td>FBPAGE</td>\n",
              "      <td>Community Engagement</td>\n",
              "      <td>37692.0</td>\n",
              "      <td>8044.0</td>\n",
              "      <td>Photo</td>\n",
              "      <td>2023-03-31</td>\n",
              "      <td>18</td>\n",
              "      <td>21.341399</td>\n",
              "    </tr>\n",
              "    <tr>\n",
              "      <th>11</th>\n",
              "      <td>DOTA2</td>\n",
              "      <td>TWITTER</td>\n",
              "      <td>N/A</td>\n",
              "      <td>1013.0</td>\n",
              "      <td>153.0</td>\n",
              "      <td>Link</td>\n",
              "      <td>2023-03-31</td>\n",
              "      <td>18</td>\n",
              "      <td>15.103653</td>\n",
              "    </tr>\n",
              "    <tr>\n",
              "      <th>...</th>\n",
              "      <td>...</td>\n",
              "      <td>...</td>\n",
              "      <td>...</td>\n",
              "      <td>...</td>\n",
              "      <td>...</td>\n",
              "      <td>...</td>\n",
              "      <td>...</td>\n",
              "      <td>...</td>\n",
              "      <td>...</td>\n",
              "    </tr>\n",
              "    <tr>\n",
              "      <th>3376</th>\n",
              "      <td>DOTA2</td>\n",
              "      <td>TWITTER</td>\n",
              "      <td>N/A</td>\n",
              "      <td>22013.0</td>\n",
              "      <td>4465.0</td>\n",
              "      <td>Video</td>\n",
              "      <td>2023-01-10</td>\n",
              "      <td>14</td>\n",
              "      <td>20.283469</td>\n",
              "    </tr>\n",
              "    <tr>\n",
              "      <th>3414</th>\n",
              "      <td>General</td>\n",
              "      <td>FBPAGE</td>\n",
              "      <td>N/A</td>\n",
              "      <td>33609.0</td>\n",
              "      <td>5042.0</td>\n",
              "      <td>Video</td>\n",
              "      <td>2023-01-10</td>\n",
              "      <td>09</td>\n",
              "      <td>15.001934</td>\n",
              "    </tr>\n",
              "    <tr>\n",
              "      <th>3421</th>\n",
              "      <td>DOTA2</td>\n",
              "      <td>TWITTER</td>\n",
              "      <td>N/A</td>\n",
              "      <td>837.0</td>\n",
              "      <td>101.0</td>\n",
              "      <td>Video</td>\n",
              "      <td>2023-01-09</td>\n",
              "      <td>15</td>\n",
              "      <td>12.066906</td>\n",
              "    </tr>\n",
              "    <tr>\n",
              "      <th>3433</th>\n",
              "      <td>General</td>\n",
              "      <td>FBPAGE</td>\n",
              "      <td>N/A</td>\n",
              "      <td>107752.0</td>\n",
              "      <td>29860.0</td>\n",
              "      <td>Text</td>\n",
              "      <td>2023-01-09</td>\n",
              "      <td>10</td>\n",
              "      <td>27.711783</td>\n",
              "    </tr>\n",
              "    <tr>\n",
              "      <th>3461</th>\n",
              "      <td>General</td>\n",
              "      <td>FBPAGE</td>\n",
              "      <td>Community Engagement</td>\n",
              "      <td>155521.0</td>\n",
              "      <td>19098.0</td>\n",
              "      <td>Photo</td>\n",
              "      <td>2023-01-04</td>\n",
              "      <td>14</td>\n",
              "      <td>12.280014</td>\n",
              "    </tr>\n",
              "  </tbody>\n",
              "</table>\n",
              "<p>339 rows × 9 columns</p>\n",
              "</div>"
            ],
            "text/plain": [
              "       Account Account Type          Campaign Name  Total Impressions  \\\n",
              "4         CSGO      TWITTER  Community Engagement              9517.0   \n",
              "7         CSGO      TWITTER  Community Engagement             17892.0   \n",
              "9         CSGO      TWITTER  Community Engagement             13874.0   \n",
              "10    General        FBPAGE  Community Engagement             37692.0   \n",
              "11       DOTA2      TWITTER                   N/A              1013.0   \n",
              "...        ...          ...                    ...                ...   \n",
              "3376     DOTA2      TWITTER                   N/A             22013.0   \n",
              "3414  General        FBPAGE                   N/A             33609.0   \n",
              "3421     DOTA2      TWITTER                   N/A               837.0   \n",
              "3433  General        FBPAGE                   N/A            107752.0   \n",
              "3461  General        FBPAGE  Community Engagement            155521.0   \n",
              "\n",
              "      Total Engagements Media Type        Date Hour  Engagement Rate  \n",
              "4                1215.0      Video  2023-03-31   19        12.766628  \n",
              "7                3076.0      Video  2023-03-31   19        17.192041  \n",
              "9                1447.0      Video  2023-03-31   18        10.429581  \n",
              "10               8044.0      Photo  2023-03-31   18        21.341399  \n",
              "11                153.0       Link  2023-03-31   18        15.103653  \n",
              "...                 ...        ...         ...  ...              ...  \n",
              "3376             4465.0      Video  2023-01-10   14        20.283469  \n",
              "3414             5042.0      Video  2023-01-10   09        15.001934  \n",
              "3421              101.0      Video  2023-01-09   15        12.066906  \n",
              "3433            29860.0       Text  2023-01-09   10        27.711783  \n",
              "3461            19098.0      Photo  2023-01-04   14        12.280014  \n",
              "\n",
              "[339 rows x 9 columns]"
            ]
          },
          "execution_count": 81,
          "metadata": {},
          "output_type": "execute_result"
        }
      ],
      "source": [
        "data3"
      ]
    },
    {
      "cell_type": "code",
      "execution_count": null,
      "metadata": {
        "colab": {
          "base_uri": "https://localhost:8080/"
        },
        "id": "EvhvO1OzqFiC",
        "outputId": "d01c9f84-0d2e-49e9-aad7-4e61a3585ebe"
      },
      "outputs": [
        {
          "data": {
            "text/plain": [
              "Community Engagement     212\n",
              "N/A                      119\n",
              "Evergreen                  4\n",
              "Evil Exhibited             4\n",
              "Name: Campaign Name, dtype: int64"
            ]
          },
          "execution_count": 82,
          "metadata": {},
          "output_type": "execute_result"
        }
      ],
      "source": [
        "data3['Campaign Name'].value_counts()"
      ]
    },
    {
      "cell_type": "code",
      "execution_count": null,
      "metadata": {
        "colab": {
          "base_uri": "https://localhost:8080/"
        },
        "id": "1Z99kI3Xq2jL",
        "outputId": "e7900c3f-b58c-482f-8b66-d45ec5364cd3"
      },
      "outputs": [
        {
          "data": {
            "text/plain": [
              "FBPAGE             230\n",
              "TWITTER             93\n",
              "TIKTOK_BUSINESS     10\n",
              "YOUTUBE              4\n",
              "INSTAGRAM            2\n",
              "Name: Account Type, dtype: int64"
            ]
          },
          "execution_count": 83,
          "metadata": {},
          "output_type": "execute_result"
        }
      ],
      "source": [
        "data3['Account Type'].value_counts()"
      ]
    },
    {
      "cell_type": "code",
      "execution_count": null,
      "metadata": {
        "colab": {
          "base_uri": "https://localhost:8080/"
        },
        "id": "9NqNUUFXAFuD",
        "outputId": "e3301fa8-b7d9-4370-e71b-49d28883e379"
      },
      "outputs": [
        {
          "data": {
            "text/plain": [
              "Photo    176\n",
              "Video    119\n",
              "Text      40\n",
              "Link       2\n",
              "Mixed      2\n",
              "Name: Media Type, dtype: int64"
            ]
          },
          "execution_count": 84,
          "metadata": {},
          "output_type": "execute_result"
        }
      ],
      "source": [
        "data3['Media Type'].value_counts()"
      ]
    },
    {
      "cell_type": "code",
      "execution_count": null,
      "metadata": {
        "colab": {
          "base_uri": "https://localhost:8080/",
          "height": 424
        },
        "id": "JZraS6G4rPsy",
        "outputId": "c7b86afa-c48b-4e9d-e89d-34a5998169d3"
      },
      "outputs": [
        {
          "data": {
            "text/html": [
              "<div>\n",
              "<style scoped>\n",
              "    .dataframe tbody tr th:only-of-type {\n",
              "        vertical-align: middle;\n",
              "    }\n",
              "\n",
              "    .dataframe tbody tr th {\n",
              "        vertical-align: top;\n",
              "    }\n",
              "\n",
              "    .dataframe thead th {\n",
              "        text-align: right;\n",
              "    }\n",
              "</style>\n",
              "<table border=\"1\" class=\"dataframe\">\n",
              "  <thead>\n",
              "    <tr style=\"text-align: right;\">\n",
              "      <th></th>\n",
              "      <th>Account</th>\n",
              "      <th>Account Type</th>\n",
              "      <th>Campaign Name</th>\n",
              "      <th>Total Impressions</th>\n",
              "      <th>Total Engagements</th>\n",
              "      <th>Media Type</th>\n",
              "      <th>Date</th>\n",
              "      <th>Hour</th>\n",
              "      <th>Engagement Rate</th>\n",
              "    </tr>\n",
              "  </thead>\n",
              "  <tbody>\n",
              "    <tr>\n",
              "      <th>4</th>\n",
              "      <td>CSGO</td>\n",
              "      <td>TWITTER</td>\n",
              "      <td>Community Engagement</td>\n",
              "      <td>9517.0</td>\n",
              "      <td>1215.0</td>\n",
              "      <td>Video</td>\n",
              "      <td>2023-03-31</td>\n",
              "      <td>19</td>\n",
              "      <td>12.766628</td>\n",
              "    </tr>\n",
              "    <tr>\n",
              "      <th>7</th>\n",
              "      <td>CSGO</td>\n",
              "      <td>TWITTER</td>\n",
              "      <td>Community Engagement</td>\n",
              "      <td>17892.0</td>\n",
              "      <td>3076.0</td>\n",
              "      <td>Video</td>\n",
              "      <td>2023-03-31</td>\n",
              "      <td>19</td>\n",
              "      <td>17.192041</td>\n",
              "    </tr>\n",
              "    <tr>\n",
              "      <th>9</th>\n",
              "      <td>CSGO</td>\n",
              "      <td>TWITTER</td>\n",
              "      <td>Community Engagement</td>\n",
              "      <td>13874.0</td>\n",
              "      <td>1447.0</td>\n",
              "      <td>Video</td>\n",
              "      <td>2023-03-31</td>\n",
              "      <td>18</td>\n",
              "      <td>10.429581</td>\n",
              "    </tr>\n",
              "    <tr>\n",
              "      <th>10</th>\n",
              "      <td>General</td>\n",
              "      <td>FBPAGE</td>\n",
              "      <td>Community Engagement</td>\n",
              "      <td>37692.0</td>\n",
              "      <td>8044.0</td>\n",
              "      <td>Photo</td>\n",
              "      <td>2023-03-31</td>\n",
              "      <td>18</td>\n",
              "      <td>21.341399</td>\n",
              "    </tr>\n",
              "    <tr>\n",
              "      <th>11</th>\n",
              "      <td>DOTA2</td>\n",
              "      <td>TWITTER</td>\n",
              "      <td>N/A</td>\n",
              "      <td>1013.0</td>\n",
              "      <td>153.0</td>\n",
              "      <td>Link</td>\n",
              "      <td>2023-03-31</td>\n",
              "      <td>18</td>\n",
              "      <td>15.103653</td>\n",
              "    </tr>\n",
              "    <tr>\n",
              "      <th>...</th>\n",
              "      <td>...</td>\n",
              "      <td>...</td>\n",
              "      <td>...</td>\n",
              "      <td>...</td>\n",
              "      <td>...</td>\n",
              "      <td>...</td>\n",
              "      <td>...</td>\n",
              "      <td>...</td>\n",
              "      <td>...</td>\n",
              "    </tr>\n",
              "    <tr>\n",
              "      <th>3376</th>\n",
              "      <td>DOTA2</td>\n",
              "      <td>TWITTER</td>\n",
              "      <td>N/A</td>\n",
              "      <td>22013.0</td>\n",
              "      <td>4465.0</td>\n",
              "      <td>Video</td>\n",
              "      <td>2023-01-10</td>\n",
              "      <td>14</td>\n",
              "      <td>20.283469</td>\n",
              "    </tr>\n",
              "    <tr>\n",
              "      <th>3414</th>\n",
              "      <td>General</td>\n",
              "      <td>FBPAGE</td>\n",
              "      <td>N/A</td>\n",
              "      <td>33609.0</td>\n",
              "      <td>5042.0</td>\n",
              "      <td>Video</td>\n",
              "      <td>2023-01-10</td>\n",
              "      <td>09</td>\n",
              "      <td>15.001934</td>\n",
              "    </tr>\n",
              "    <tr>\n",
              "      <th>3421</th>\n",
              "      <td>DOTA2</td>\n",
              "      <td>TWITTER</td>\n",
              "      <td>N/A</td>\n",
              "      <td>837.0</td>\n",
              "      <td>101.0</td>\n",
              "      <td>Video</td>\n",
              "      <td>2023-01-09</td>\n",
              "      <td>15</td>\n",
              "      <td>12.066906</td>\n",
              "    </tr>\n",
              "    <tr>\n",
              "      <th>3433</th>\n",
              "      <td>General</td>\n",
              "      <td>FBPAGE</td>\n",
              "      <td>N/A</td>\n",
              "      <td>107752.0</td>\n",
              "      <td>29860.0</td>\n",
              "      <td>Text</td>\n",
              "      <td>2023-01-09</td>\n",
              "      <td>10</td>\n",
              "      <td>27.711783</td>\n",
              "    </tr>\n",
              "    <tr>\n",
              "      <th>3461</th>\n",
              "      <td>General</td>\n",
              "      <td>FBPAGE</td>\n",
              "      <td>Community Engagement</td>\n",
              "      <td>155521.0</td>\n",
              "      <td>19098.0</td>\n",
              "      <td>Photo</td>\n",
              "      <td>2023-01-04</td>\n",
              "      <td>14</td>\n",
              "      <td>12.280014</td>\n",
              "    </tr>\n",
              "  </tbody>\n",
              "</table>\n",
              "<p>323 rows × 9 columns</p>\n",
              "</div>"
            ],
            "text/plain": [
              "       Account Account Type          Campaign Name  Total Impressions  \\\n",
              "4         CSGO      TWITTER  Community Engagement              9517.0   \n",
              "7         CSGO      TWITTER  Community Engagement             17892.0   \n",
              "9         CSGO      TWITTER  Community Engagement             13874.0   \n",
              "10    General        FBPAGE  Community Engagement             37692.0   \n",
              "11       DOTA2      TWITTER                   N/A              1013.0   \n",
              "...        ...          ...                    ...                ...   \n",
              "3376     DOTA2      TWITTER                   N/A             22013.0   \n",
              "3414  General        FBPAGE                   N/A             33609.0   \n",
              "3421     DOTA2      TWITTER                   N/A               837.0   \n",
              "3433  General        FBPAGE                   N/A            107752.0   \n",
              "3461  General        FBPAGE  Community Engagement            155521.0   \n",
              "\n",
              "      Total Engagements Media Type        Date Hour  Engagement Rate  \n",
              "4                1215.0      Video  2023-03-31   19        12.766628  \n",
              "7                3076.0      Video  2023-03-31   19        17.192041  \n",
              "9                1447.0      Video  2023-03-31   18        10.429581  \n",
              "10               8044.0      Photo  2023-03-31   18        21.341399  \n",
              "11                153.0       Link  2023-03-31   18        15.103653  \n",
              "...                 ...        ...         ...  ...              ...  \n",
              "3376             4465.0      Video  2023-01-10   14        20.283469  \n",
              "3414             5042.0      Video  2023-01-10   09        15.001934  \n",
              "3421              101.0      Video  2023-01-09   15        12.066906  \n",
              "3433            29860.0       Text  2023-01-09   10        27.711783  \n",
              "3461            19098.0      Photo  2023-01-04   14        12.280014  \n",
              "\n",
              "[323 rows x 9 columns]"
            ]
          },
          "execution_count": 85,
          "metadata": {},
          "output_type": "execute_result"
        }
      ],
      "source": [
        "data4 = data3[(data3['Account Type'] == 'FBPAGE') | (data3['Account Type'] == 'TWITTER')]\n",
        "data4"
      ]
    },
    {
      "cell_type": "markdown",
      "metadata": {
        "id": "JzQXd847rVdd"
      },
      "source": [
        "### Stats of data with FBPAGE and TWITTER as account types "
      ]
    },
    {
      "cell_type": "code",
      "execution_count": null,
      "metadata": {
        "colab": {
          "base_uri": "https://localhost:8080/"
        },
        "id": "iMG9g9R3Embd",
        "outputId": "c6f44d5e-8537-4d36-9a84-ffd42fbfcee2"
      },
      "outputs": [
        {
          "data": {
            "text/plain": [
              "Community Engagement     205\n",
              "N/A                      113\n",
              "Evil Exhibited             3\n",
              "Evergreen                  2\n",
              "Name: Campaign Name, dtype: int64"
            ]
          },
          "execution_count": 86,
          "metadata": {},
          "output_type": "execute_result"
        }
      ],
      "source": [
        "data4['Campaign Name'].value_counts()"
      ]
    },
    {
      "cell_type": "code",
      "execution_count": null,
      "metadata": {
        "colab": {
          "base_uri": "https://localhost:8080/"
        },
        "id": "glyEfdnNE4SV",
        "outputId": "068bf1dc-e7e2-4ae0-e30b-d6b95f49ebbf"
      },
      "outputs": [
        {
          "data": {
            "text/plain": [
              "Photo    174\n",
              "Video    105\n",
              "Text      40\n",
              "Link       2\n",
              "Mixed      2\n",
              "Name: Media Type, dtype: int64"
            ]
          },
          "execution_count": 87,
          "metadata": {},
          "output_type": "execute_result"
        }
      ],
      "source": [
        "data4['Media Type'].value_counts()"
      ]
    },
    {
      "cell_type": "code",
      "execution_count": null,
      "metadata": {
        "colab": {
          "base_uri": "https://localhost:8080/"
        },
        "id": "nNZzd-5G--1G",
        "outputId": "074b4b6a-f7d2-41cf-d7e0-478109236de8"
      },
      "outputs": [
        {
          "name": "stdout",
          "output_type": "stream",
          "text": [
            "Average Engagement Rate: 16.89%\n"
          ]
        }
      ],
      "source": [
        "engagement_data = data4['Engagement Rate'] \n",
        "average_engagement_rate = engagement_data.mean()\n",
        "print(\"Average Engagement Rate: {:.2f}%\".format(average_engagement_rate))"
      ]
    },
    {
      "cell_type": "markdown",
      "metadata": {
        "id": "3PN-HYkSrVdd"
      },
      "source": [
        "### For the liklihood of getting a 15% of Engagement rate "
      ]
    },
    {
      "cell_type": "markdown",
      "metadata": {
        "id": "Paoup0-RBA7X"
      },
      "source": [
        "*   Total rows considered: 3479\n",
        "*   Average engagement rate: 40.49%\n",
        "*   Rows with engagement rate of 0 excluded: 2735 rows remaining\n",
        "*   Engagement rate range: 0 to 100\n",
        "*   Entries within the range: 2731\n",
        "*   Outliers (engagement rate > 100) removed\n",
        "*   Typical engagement rate within the range: 5.31%\n",
        "*   Subset of entries with engagement rate between 10 and 30: 339 rows\n",
        "*   Average Engagement rate within range of 10-30: 16.89%\n",
        "*   Influential account types: FBPAGE and TWITTER\n",
        "*   Campaigns with highest impact on engagement rates: Community Engagement and entries marked as N/A    \n",
        "\n",
        "\n",
        "\n",
        "\n",
        "\n",
        "\n",
        "\n",
        "\n",
        "\n",
        "\n",
        "\n",
        "\n",
        "\n",
        "\n",
        "\n",
        "\n",
        "\n",
        "\n",
        "\n",
        "\n"
      ]
    },
    {
      "cell_type": "markdown",
      "metadata": {
        "id": "NKaTxYDQUKZs"
      },
      "source": [
        "### Does day of the week and time of posting affect engagement rates?"
      ]
    },
    {
      "cell_type": "code",
      "execution_count": null,
      "metadata": {
        "colab": {
          "base_uri": "https://localhost:8080/",
          "height": 580
        },
        "id": "lghnkjNTUAPf",
        "outputId": "65662a18-d744-418d-f73e-c91debcbf9a0"
      },
      "outputs": [
        {
          "data": {
            "image/png": "[encoded data removed]",
            "text/plain": [
              "<Figure size 576x432 with 1 Axes>"
            ]
          },
          "metadata": {
            "needs_background": "light"
          },
          "output_type": "display_data"
        }
      ],
      "source": [
        "data = pd.read_excel(file_path)\n",
        "data['DayOfWeek'] = data['Published Date'].dt.dayofweek\n",
        "data['DayOfWeekName'] = data['Published Date'].dt.strftime('%A')\n",
        "data['Engagement Rate'] = (data['Total Engagements'] / data['Total Impressions']) * 100\n",
        "data.dropna()\n",
        "req_data = data[(data['Engagement Rate'] > 0) & (data['Engagement Rate'] <= 100)]\n",
        "engagement_by_day = req_data.groupby('DayOfWeek')['Engagement Rate'].mean()\n",
        "plt.figure(figsize=(8, 6))\n",
        "engagement_by_day.plot(kind='bar')\n",
        "plt.xlabel('Day of the Week')\n",
        "plt.ylabel('Average Engagement Rate')\n",
        "plt.title('Engagement Rate by Day of the Week')\n",
        "plt.xticks(range(7), ['Mon', 'Tue', 'Wed', 'Thu', 'Fri', 'Sat', 'Sun'])\n",
        "plt.show()"
      ]
    },
    {
      "cell_type": "code",
      "execution_count": null,
      "metadata": {
        "colab": {
          "base_uri": "https://localhost:8080/",
          "height": 668
        },
        "id": "59UZ5GOrZyJ8",
        "outputId": "be3779e3-2099-4863-b9f9-4c06b0ede4f9"
      },
      "outputs": [
        {
          "name": "stderr",
          "output_type": "stream",
          "text": [
            "C:\\Users\\Checkout\\AppData\\Local\\Temp\\ipykernel_8276\\1557407482.py:1: SettingWithCopyWarning: \n",
            "A value is trying to be set on a copy of a slice from a DataFrame.\n",
            "Try using .loc[row_indexer,col_indexer] = value instead\n",
            "\n",
            "See the caveats in the documentation: https://pandas.pydata.org/pandas-docs/stable/user_guide/indexing.html#returning-a-view-versus-a-copy\n",
            "  req_data['HourOfDay'] = data['Published Date'].dt.hour\n"
          ]
        },
        {
          "data": {
            "image/png": "[encoded data removed]",
            "text/plain": [
              "<Figure size 864x432 with 1 Axes>"
            ]
          },
          "metadata": {
            "needs_background": "light"
          },
          "output_type": "display_data"
        }
      ],
      "source": [
        "req_data['HourOfDay'] = data['Published Date'].dt.hour\n",
        "engagement_by_hour = req_data.groupby('HourOfDay')['Engagement Rate'].mean()\n",
        "plt.figure(figsize=(12, 6))\n",
        "engagement_by_hour.plot(kind='line', marker='o')\n",
        "plt.xlabel('Hour of the Day')\n",
        "plt.ylabel('Average Engagement Rate')\n",
        "plt.title('Engagement Rate by Hour of the Day')\n",
        "plt.xticks(range(24))\n",
        "plt.grid(True)\n",
        "plt.show()"
      ]
    },
    {
      "cell_type": "markdown",
      "source": [
        "### Engagement rate is highest on the days Tuesday, Thursday, and Sunday.\n",
        "### Peak Engagement Rate is observed in 5th hour of the day"
      ],
      "metadata": {
        "id": "X871qSgzwghu"
      }
    },
    {
      "cell_type": "code",
      "execution_count": null,
      "metadata": {
        "colab": {
          "base_uri": "https://localhost:8080/",
          "height": 424
        },
        "id": "vLbh99cWXClj",
        "outputId": "e8f4ed40-6b03-49ea-e880-87fd7ffc5ce1"
      },
      "outputs": [
        {
          "data": {
            "text/html": [
              "<div>\n",
              "<style scoped>\n",
              "    .dataframe tbody tr th:only-of-type {\n",
              "        vertical-align: middle;\n",
              "    }\n",
              "\n",
              "    .dataframe tbody tr th {\n",
              "        vertical-align: top;\n",
              "    }\n",
              "\n",
              "    .dataframe thead th {\n",
              "        text-align: right;\n",
              "    }\n",
              "</style>\n",
              "<table border=\"1\" class=\"dataframe\">\n",
              "  <thead>\n",
              "    <tr style=\"text-align: right;\">\n",
              "      <th></th>\n",
              "      <th>Published Date</th>\n",
              "      <th>Account</th>\n",
              "      <th>Account Type</th>\n",
              "      <th>Campaign Name</th>\n",
              "      <th>Total Impressions</th>\n",
              "      <th>Total Engagements</th>\n",
              "      <th>Media Type</th>\n",
              "      <th>DayOfWeek</th>\n",
              "      <th>DayOfWeekName</th>\n",
              "      <th>Engagement Rate</th>\n",
              "      <th>HourOfDay</th>\n",
              "    </tr>\n",
              "  </thead>\n",
              "  <tbody>\n",
              "    <tr>\n",
              "      <th>4</th>\n",
              "      <td>2023-03-31 19:43:42.590</td>\n",
              "      <td>CSGO</td>\n",
              "      <td>TWITTER</td>\n",
              "      <td>Community Engagement</td>\n",
              "      <td>9517.0</td>\n",
              "      <td>1215.0</td>\n",
              "      <td>Video</td>\n",
              "      <td>4</td>\n",
              "      <td>Friday</td>\n",
              "      <td>12.766628</td>\n",
              "      <td>19</td>\n",
              "    </tr>\n",
              "    <tr>\n",
              "      <th>6</th>\n",
              "      <td>2023-03-31 19:40:57.383</td>\n",
              "      <td>CSGO</td>\n",
              "      <td>TWITTER</td>\n",
              "      <td>Community Engagement</td>\n",
              "      <td>1882.0</td>\n",
              "      <td>83.0</td>\n",
              "      <td>Photo</td>\n",
              "      <td>4</td>\n",
              "      <td>Friday</td>\n",
              "      <td>4.410202</td>\n",
              "      <td>19</td>\n",
              "    </tr>\n",
              "    <tr>\n",
              "      <th>7</th>\n",
              "      <td>2023-03-31 19:23:57.349</td>\n",
              "      <td>CSGO</td>\n",
              "      <td>TWITTER</td>\n",
              "      <td>Community Engagement</td>\n",
              "      <td>17892.0</td>\n",
              "      <td>3076.0</td>\n",
              "      <td>Video</td>\n",
              "      <td>4</td>\n",
              "      <td>Friday</td>\n",
              "      <td>17.192041</td>\n",
              "      <td>19</td>\n",
              "    </tr>\n",
              "    <tr>\n",
              "      <th>9</th>\n",
              "      <td>2023-03-31 18:55:51.855</td>\n",
              "      <td>CSGO</td>\n",
              "      <td>TWITTER</td>\n",
              "      <td>Community Engagement</td>\n",
              "      <td>13874.0</td>\n",
              "      <td>1447.0</td>\n",
              "      <td>Video</td>\n",
              "      <td>4</td>\n",
              "      <td>Friday</td>\n",
              "      <td>10.429581</td>\n",
              "      <td>18</td>\n",
              "    </tr>\n",
              "    <tr>\n",
              "      <th>10</th>\n",
              "      <td>2023-03-31 18:36:01.000</td>\n",
              "      <td>General</td>\n",
              "      <td>FBPAGE</td>\n",
              "      <td>Community Engagement</td>\n",
              "      <td>37692.0</td>\n",
              "      <td>8044.0</td>\n",
              "      <td>Photo</td>\n",
              "      <td>4</td>\n",
              "      <td>Friday</td>\n",
              "      <td>21.341399</td>\n",
              "      <td>18</td>\n",
              "    </tr>\n",
              "    <tr>\n",
              "      <th>...</th>\n",
              "      <td>...</td>\n",
              "      <td>...</td>\n",
              "      <td>...</td>\n",
              "      <td>...</td>\n",
              "      <td>...</td>\n",
              "      <td>...</td>\n",
              "      <td>...</td>\n",
              "      <td>...</td>\n",
              "      <td>...</td>\n",
              "      <td>...</td>\n",
              "      <td>...</td>\n",
              "    </tr>\n",
              "    <tr>\n",
              "      <th>3463</th>\n",
              "      <td>2023-01-04 13:17:28.473</td>\n",
              "      <td>General</td>\n",
              "      <td>TWITTER</td>\n",
              "      <td>N/A</td>\n",
              "      <td>393.0</td>\n",
              "      <td>18.0</td>\n",
              "      <td>Text</td>\n",
              "      <td>2</td>\n",
              "      <td>Wednesday</td>\n",
              "      <td>4.580153</td>\n",
              "      <td>13</td>\n",
              "    </tr>\n",
              "    <tr>\n",
              "      <th>3464</th>\n",
              "      <td>2023-01-04 13:00:02.187</td>\n",
              "      <td>General</td>\n",
              "      <td>TWITTER</td>\n",
              "      <td>Community Engagement</td>\n",
              "      <td>136660.0</td>\n",
              "      <td>2371.0</td>\n",
              "      <td>Photo</td>\n",
              "      <td>2</td>\n",
              "      <td>Wednesday</td>\n",
              "      <td>1.734963</td>\n",
              "      <td>13</td>\n",
              "    </tr>\n",
              "    <tr>\n",
              "      <th>3465</th>\n",
              "      <td>2023-01-04 13:00:01.000</td>\n",
              "      <td>General</td>\n",
              "      <td>FBPAGE</td>\n",
              "      <td>Community Engagement</td>\n",
              "      <td>29051.0</td>\n",
              "      <td>811.0</td>\n",
              "      <td>Photo</td>\n",
              "      <td>2</td>\n",
              "      <td>Wednesday</td>\n",
              "      <td>2.791642</td>\n",
              "      <td>13</td>\n",
              "    </tr>\n",
              "    <tr>\n",
              "      <th>3470</th>\n",
              "      <td>2023-01-03 13:34:33.887</td>\n",
              "      <td>General</td>\n",
              "      <td>TWITTER</td>\n",
              "      <td>N/A</td>\n",
              "      <td>7704.0</td>\n",
              "      <td>153.0</td>\n",
              "      <td>Text</td>\n",
              "      <td>1</td>\n",
              "      <td>Tuesday</td>\n",
              "      <td>1.985981</td>\n",
              "      <td>13</td>\n",
              "    </tr>\n",
              "    <tr>\n",
              "      <th>3477</th>\n",
              "      <td>2023-01-03 10:34:03.438</td>\n",
              "      <td>CSGO</td>\n",
              "      <td>TWITTER</td>\n",
              "      <td>N/A</td>\n",
              "      <td>2116.0</td>\n",
              "      <td>42.0</td>\n",
              "      <td>Text</td>\n",
              "      <td>1</td>\n",
              "      <td>Tuesday</td>\n",
              "      <td>1.984877</td>\n",
              "      <td>10</td>\n",
              "    </tr>\n",
              "  </tbody>\n",
              "</table>\n",
              "<p>2510 rows × 11 columns</p>\n",
              "</div>"
            ],
            "text/plain": [
              "              Published Date   Account Account Type          Campaign Name  \\\n",
              "4    2023-03-31 19:43:42.590      CSGO      TWITTER  Community Engagement    \n",
              "6    2023-03-31 19:40:57.383      CSGO      TWITTER  Community Engagement    \n",
              "7    2023-03-31 19:23:57.349      CSGO      TWITTER  Community Engagement    \n",
              "9    2023-03-31 18:55:51.855      CSGO      TWITTER  Community Engagement    \n",
              "10   2023-03-31 18:36:01.000  General        FBPAGE  Community Engagement    \n",
              "...                      ...       ...          ...                    ...   \n",
              "3463 2023-01-04 13:17:28.473  General       TWITTER                   N/A    \n",
              "3464 2023-01-04 13:00:02.187  General       TWITTER  Community Engagement    \n",
              "3465 2023-01-04 13:00:01.000  General        FBPAGE  Community Engagement    \n",
              "3470 2023-01-03 13:34:33.887  General       TWITTER                   N/A    \n",
              "3477 2023-01-03 10:34:03.438      CSGO      TWITTER                   N/A    \n",
              "\n",
              "      Total Impressions  Total Engagements Media Type  DayOfWeek  \\\n",
              "4                9517.0             1215.0      Video          4   \n",
              "6                1882.0               83.0      Photo          4   \n",
              "7               17892.0             3076.0      Video          4   \n",
              "9               13874.0             1447.0      Video          4   \n",
              "10              37692.0             8044.0      Photo          4   \n",
              "...                 ...                ...        ...        ...   \n",
              "3463              393.0               18.0       Text          2   \n",
              "3464           136660.0             2371.0      Photo          2   \n",
              "3465            29051.0              811.0      Photo          2   \n",
              "3470             7704.0              153.0       Text          1   \n",
              "3477             2116.0               42.0       Text          1   \n",
              "\n",
              "     DayOfWeekName  Engagement Rate  HourOfDay  \n",
              "4           Friday        12.766628         19  \n",
              "6           Friday         4.410202         19  \n",
              "7           Friday        17.192041         19  \n",
              "9           Friday        10.429581         18  \n",
              "10          Friday        21.341399         18  \n",
              "...            ...              ...        ...  \n",
              "3463     Wednesday         4.580153         13  \n",
              "3464     Wednesday         1.734963         13  \n",
              "3465     Wednesday         2.791642         13  \n",
              "3470       Tuesday         1.985981         13  \n",
              "3477       Tuesday         1.984877         10  \n",
              "\n",
              "[2510 rows x 11 columns]"
            ]
          },
          "execution_count": 91,
          "metadata": {},
          "output_type": "execute_result"
        }
      ],
      "source": [
        "req_data"
      ]
    },
    {
      "cell_type": "markdown",
      "source": [
        "### Performance of Game Titles in Social Media\n"
      ],
      "metadata": {
        "id": "bZ97a_YkxMOE"
      }
    },
    {
      "cell_type": "code",
      "execution_count": null,
      "metadata": {
        "colab": {
          "base_uri": "https://localhost:8080/"
        },
        "id": "GsyJJBsOLADy",
        "outputId": "77487f05-3e54-456f-aae2-47593764f12a"
      },
      "outputs": [
        {
          "data": {
            "text/plain": [
              "General             2271\n",
              "DOTA2                803\n",
              "CSGO                 270\n",
              "Valorant              60\n",
              "Content Creators      53\n",
              "General               22\n",
              "Name: Account, dtype: int64"
            ]
          },
          "execution_count": 92,
          "metadata": {},
          "output_type": "execute_result"
        }
      ],
      "source": [
        "data['Account'].value_counts()"
      ]
    },
    {
      "cell_type": "markdown",
      "source": [
        "### Data inconsistency has been found in 'General' type of account"
      ],
      "metadata": {
        "id": "10mXYoIxxuyx"
      }
    },
    {
      "cell_type": "code",
      "execution_count": null,
      "metadata": {
        "colab": {
          "base_uri": "https://localhost:8080/"
        },
        "id": "fuUoJ2wYN011",
        "outputId": "287b527a-8a0a-4fc9-8582-5ca91734803d"
      },
      "outputs": [
        {
          "data": {
            "text/plain": [
              "general             2293\n",
              "dota2                803\n",
              "csgo                 270\n",
              "valorant              60\n",
              "content creators      53\n",
              "Name: Account, dtype: int64"
            ]
          },
          "execution_count": 93,
          "metadata": {},
          "output_type": "execute_result"
        }
      ],
      "source": [
        "data['Account'] = data['Account'].str.strip().str.lower()\n",
        "data['Account'].value_counts()"
      ]
    },
    {
      "cell_type": "code",
      "execution_count": null,
      "metadata": {
        "colab": {
          "base_uri": "https://localhost:8080/"
        },
        "id": "aZ_N6giRTOd9",
        "outputId": "8bab46e8-6167-4ca3-ccf0-3b58c738cac6"
      },
      "outputs": [
        {
          "name": "stderr",
          "output_type": "stream",
          "text": [
            "C:\\Users\\Checkout\\AppData\\Local\\Temp\\ipykernel_8276\\1102620369.py:1: SettingWithCopyWarning: \n",
            "A value is trying to be set on a copy of a slice from a DataFrame.\n",
            "Try using .loc[row_indexer,col_indexer] = value instead\n",
            "\n",
            "See the caveats in the documentation: https://pandas.pydata.org/pandas-docs/stable/user_guide/indexing.html#returning-a-view-versus-a-copy\n",
            "  req_data['Account'] = req_data['Account'].str.strip().str.lower()\n"
          ]
        },
        {
          "data": {
            "text/plain": [
              "general             1556\n",
              "dota2                691\n",
              "csgo                 198\n",
              "content creators      34\n",
              "valorant              31\n",
              "Name: Account, dtype: int64"
            ]
          },
          "execution_count": 94,
          "metadata": {},
          "output_type": "execute_result"
        }
      ],
      "source": [
        "req_data['Account'] = req_data['Account'].str.strip().str.lower()\n",
        "req_data['Account'].value_counts()"
      ]
    },
    {
      "cell_type": "code",
      "execution_count": null,
      "metadata": {
        "colab": {
          "base_uri": "https://localhost:8080/"
        },
        "id": "z2ogjcEyOGE8",
        "outputId": "6a1bfd67-685e-4475-9a08-aff8fcce8d60"
      },
      "outputs": [
        {
          "name": "stdout",
          "output_type": "stream",
          "text": [
            "Best performing account:\n",
            "Account\n",
            "general    33931757.0\n",
            "Name: Total Impressions, dtype: float64\n",
            "\n",
            "Least performing account:\n",
            "Account\n",
            "valorant    22979.0\n",
            "Name: Total Impressions, dtype: float64\n"
          ]
        }
      ],
      "source": [
        "impressions_by_account = data.groupby('Account')['Total Impressions'].sum()\n",
        "best_performing_account = impressions_by_account.nlargest(1)\n",
        "least_performing_account = impressions_by_account.nsmallest(1)\n",
        "print(\"Best performing account:\")\n",
        "print(best_performing_account)\n",
        "\n",
        "print(\"\\nLeast performing account:\")\n",
        "print(least_performing_account)\n"
      ]
    },
    {
      "cell_type": "code",
      "execution_count": null,
      "metadata": {
        "colab": {
          "base_uri": "https://localhost:8080/",
          "height": 718
        },
        "id": "QhFVosk-OtE6",
        "outputId": "555c6a40-8b96-43e9-e9e1-10d0c100e4d8"
      },
      "outputs": [
        {
          "data": {
            "image/png": "[encoded data removed]",
            "text/plain": [
              "<Figure size 1152x576 with 1 Axes>"
            ]
          },
          "metadata": {
            "needs_background": "light"
          },
          "output_type": "display_data"
        }
      ],
      "source": [
        "impressions_by_account = data.groupby('Account')['Total Impressions'].sum()\n",
        "sorted_impressions = impressions_by_account.sort_values(ascending=False)\n",
        "fig, ax = plt.subplots()\n",
        "sns.barplot(x=sorted_impressions.index, y=sorted_impressions, palette=\"Set2\", ax=ax)\n",
        "plt.xlabel('Account')\n",
        "plt.ylabel('Total Impressions')\n",
        "plt.title('Performance of Accounts based on Total Impressions')\n",
        "for i, v in enumerate(sorted_impressions):\n",
        "    ax.text(i, v, str(v), ha='center', va='bottom')\n",
        "\n",
        "plt.xticks()\n",
        "plt.show()"
      ]
    },
    {
      "cell_type": "markdown",
      "source": [
        "### General Account has the highest Impressions while valorant has the least impressions "
      ],
      "metadata": {
        "id": "r4RyDsiQy174"
      }
    },
    {
      "cell_type": "code",
      "execution_count": null,
      "metadata": {
        "colab": {
          "base_uri": "https://localhost:8080/"
        },
        "id": "gOCl8sHQQJxZ",
        "outputId": "ead57b1e-5e28-4274-e3cb-549f93ff04c4"
      },
      "outputs": [
        {
          "name": "stdout",
          "output_type": "stream",
          "text": [
            "Best performing account:\n",
            "Account\n",
            "general    3077328.0\n",
            "Name: Total Engagements, dtype: float64\n",
            "\n",
            "Least performing account:\n",
            "Account\n",
            "valorant    931.0\n",
            "Name: Total Engagements, dtype: float64\n"
          ]
        }
      ],
      "source": [
        "engagements_by_account = data.groupby('Account')['Total Engagements'].sum()\n",
        "best_performing_account = engagements_by_account.nlargest(1)\n",
        "least_performing_account = engagements_by_account.nsmallest(1)\n",
        "print(\"Best performing account:\")\n",
        "print(best_performing_account)\n",
        "\n",
        "print(\"\\nLeast performing account:\")\n",
        "print(least_performing_account)"
      ]
    },
    {
      "cell_type": "code",
      "execution_count": null,
      "metadata": {
        "colab": {
          "base_uri": "https://localhost:8080/",
          "height": 718
        },
        "id": "DzjlMhxMO3hk",
        "outputId": "bbd295fa-632c-447c-a06e-e30d6d5b873d"
      },
      "outputs": [
        {
          "data": {
            "image/png": "[encoded data removed]",
            "text/plain": [
              "<Figure size 1152x576 with 1 Axes>"
            ]
          },
          "metadata": {
            "needs_background": "light"
          },
          "output_type": "display_data"
        }
      ],
      "source": [
        "engagements_by_account = data.groupby('Account')['Total Engagements'].sum()\n",
        "sorted_engagements = engagements_by_account.sort_values(ascending=False)\n",
        "fig, ax = plt.subplots()\n",
        "sns.barplot(x=sorted_engagements.index, y=sorted_engagements, palette=\"Set2\", ax=ax)\n",
        "plt.xlabel('Account')\n",
        "plt.ylabel('Total Engagements')\n",
        "plt.title('Performance of Accounts based on Total Engagements')\n",
        "for i, v in enumerate(sorted_engagements):\n",
        "    ax.text(i, v, str(v), ha='center', va='bottom')\n",
        "\n",
        "plt.xticks()\n",
        "plt.show()"
      ]
    },
    {
      "cell_type": "markdown",
      "source": [
        "### General account has the highest number of Engagements "
      ],
      "metadata": {
        "id": "9hQ_vI4rzDRP"
      }
    },
    {
      "cell_type": "code",
      "execution_count": null,
      "metadata": {
        "colab": {
          "base_uri": "https://localhost:8080/"
        },
        "id": "yoeUJIn7SRfu",
        "outputId": "da26445f-4925-49a0-d0f8-65e8fd890d4b"
      },
      "outputs": [
        {
          "data": {
            "text/plain": [
              "Account\n",
              "general             6.389059\n",
              "content creators    6.353192\n",
              "valorant            5.854570\n",
              "dota2               4.994979\n",
              "csgo                4.132564\n",
              "Name: Engagement Rate, dtype: float64"
            ]
          },
          "execution_count": 99,
          "metadata": {},
          "output_type": "execute_result"
        }
      ],
      "source": [
        "engagement_mean = req_data.groupby('Account')['Engagement Rate'].mean().sort_values(ascending=False)\n",
        "engagement_mean"
      ]
    },
    {
      "cell_type": "code",
      "execution_count": null,
      "metadata": {
        "colab": {
          "base_uri": "https://localhost:8080/",
          "height": 564
        },
        "id": "g41BqDz5S13c",
        "outputId": "06e64059-4c1f-4d3d-e58c-69716b05db51"
      },
      "outputs": [
        {
          "data": {
            "image/png": "[encoded data removed]",
            "text/plain": [
              "<Figure size 720x432 with 1 Axes>"
            ]
          },
          "metadata": {
            "needs_background": "light"
          },
          "output_type": "display_data"
        }
      ],
      "source": [
        "top_accounts = engagement_mean.head(1)\n",
        "bottom_accounts = engagement_mean.tail(1)\n",
        "colors = ['green' if account in top_accounts else 'red' for account in engagement_mean.index]\n",
        "plt.figure(figsize=(10, 6))\n",
        "plt.bar(engagement_mean.index, engagement_mean, color=colors)\n",
        "plt.xlabel('Account')\n",
        "plt.ylabel('Engagement Rate')\n",
        "plt.title('Best Performing and Least Performing Accounts')\n",
        "plt.legend(['Best Performing', 'Least Performing'])\n",
        "for i, rate in enumerate(engagement_mean):\n",
        "    plt.text(i, rate, f'{rate:.2f}', ha='center', va='bottom')\n",
        "plt.xticks()\n",
        "plt.show()\n"
      ]
    },
    {
      "cell_type": "markdown",
      "source": [
        "### Although the engagement rates have a very close values but the General Account have a very large number of Impressions and Engagements when compared to the other Account types. \n",
        "### Other than the 'General' game title all other titles need to be concentrated more."
      ],
      "metadata": {
        "id": "1bLjzB63zc4S"
      }
    },
    {
      "cell_type": "code",
      "execution_count": null,
      "metadata": {
        "colab": {
          "base_uri": "https://localhost:8080/",
          "height": 581
        },
        "id": "KVLGVmfaVQ8X",
        "outputId": "65130bcf-d4b2-4a31-cc3c-171197db0a83"
      },
      "outputs": [
        {
          "data": {
            "image/png": "[encoded data removed]",
            "text/plain": [
              "<Figure size 576x432 with 1 Axes>"
            ]
          },
          "metadata": {
            "needs_background": "light"
          },
          "output_type": "display_data"
        },
        {
          "name": "stdout",
          "output_type": "stream",
          "text": [
            "The media type that performs the best is: Album\n"
          ]
        }
      ],
      "source": [
        "media_engagement = req_data.groupby('Media Type')['Engagement Rate'].mean()\n",
        "best_media_type = media_engagement.idxmax()\n",
        "plt.figure(figsize=(8, 6))\n",
        "media_engagement.plot(kind='bar', color='blue')\n",
        "plt.xlabel('Media Type')\n",
        "plt.ylabel('Average Engagement Rate')\n",
        "plt.title('Average Engagement Rate by Media Type')\n",
        "plt.axhline(media_engagement[best_media_type], color='red', linestyle='--', label='Best Media Type')\n",
        "plt.legend()\n",
        "plt.xticks(rotation=0)\n",
        "plt.show()\n",
        "print(\"The media type that performs the best is:\", best_media_type)"
      ]
    },
    {
      "cell_type": "code",
      "execution_count": null,
      "metadata": {
        "colab": {
          "base_uri": "https://localhost:8080/",
          "height": 581
        },
        "id": "DWiIfqj2WLRH",
        "outputId": "a7acce2e-aabb-4d91-8fa6-f934ef7af271"
      },
      "outputs": [
        {
          "data": {
            "image/png": "[encoded data removed]",
            "text/plain": [
              "<Figure size 576x432 with 1 Axes>"
            ]
          },
          "metadata": {
            "needs_background": "light"
          },
          "output_type": "display_data"
        },
        {
          "name": "stdout",
          "output_type": "stream",
          "text": [
            "The media type with the highest total impressions is: Photo\n"
          ]
        }
      ],
      "source": [
        "media_impressions = data.groupby('Media Type')['Total Impressions'].sum()\n",
        "best_media_type = media_impressions.idxmax()\n",
        "plt.figure(figsize=(8, 6))\n",
        "media_impressions.plot(kind='bar', color='blue')\n",
        "plt.xlabel('Media Type')\n",
        "plt.ylabel('Total Impressions')\n",
        "plt.title('Total Impressions by Media Type')\n",
        "plt.axhline(media_impressions[best_media_type], color='red', linestyle='--', label='Best Media Type')\n",
        "\n",
        "for i, rate in enumerate(media_impressions):\n",
        "    plt.text(i, rate, f'{rate:.2f}', ha='center', va='bottom')\n",
        "\n",
        "plt.xticks(rotation=0)\n",
        "plt.show()\n",
        "\n",
        "print(\"The media type with the highest total impressions is:\", best_media_type)\n"
      ]
    },
    {
      "cell_type": "code",
      "execution_count": null,
      "metadata": {
        "colab": {
          "base_uri": "https://localhost:8080/",
          "height": 581
        },
        "id": "b_Jm-ICHqzp7",
        "outputId": "2a77bd63-dd06-43e5-bf65-94520e42381d"
      },
      "outputs": [
        {
          "data": {
            "image/png": "[encoded data removed]",
            "text/plain": [
              "<Figure size 576x432 with 1 Axes>"
            ]
          },
          "metadata": {
            "needs_background": "light"
          },
          "output_type": "display_data"
        },
        {
          "name": "stdout",
          "output_type": "stream",
          "text": [
            "The media type with the highest total engagements is: Photo\n"
          ]
        }
      ],
      "source": [
        "media_engagements = data.groupby('Media Type')['Total Engagements'].sum()\n",
        "best_media_type = media_engagements.idxmax()\n",
        "plt.figure(figsize=(8, 6))\n",
        "media_engagements.plot(kind='bar', color='blue')\n",
        "plt.xlabel('Media Type')\n",
        "plt.ylabel('Total Engagements')\n",
        "plt.title('Total Engagements by Media Type')\n",
        "plt.axhline(media_engagements[best_media_type], color='red', linestyle='--', label='Best Media Type')\n",
        "\n",
        "plt.legend()\n",
        "for i, rate in enumerate(media_engagements):\n",
        "    plt.text(i, rate, f'{rate:.2f}', ha='center', va='bottom')\n",
        "\n",
        "plt.xticks(rotation=0)\n",
        "plt.show()\n",
        "\n",
        "print(\"The media type with the highest total engagements is:\", best_media_type)\n"
      ]
    },
    {
      "cell_type": "code",
      "execution_count": null,
      "metadata": {
        "colab": {
          "base_uri": "https://localhost:8080/",
          "height": 564
        },
        "id": "17z_iteJrFNR",
        "outputId": "01fbb51b-b7e0-474e-9ac9-3e6936f95fec"
      },
      "outputs": [
        {
          "data": {
            "image/png": "[encoded data removed]",
            "text/plain": [
              "<Figure size 720x432 with 1 Axes>"
            ]
          },
          "metadata": {
            "needs_background": "light"
          },
          "output_type": "display_data"
        }
      ],
      "source": [
        "media_impressions = data.groupby('Media Type')['Total Impressions'].sum()\n",
        "media_engagements = data.groupby('Media Type')['Total Engagements'].sum()\n",
        "plt.figure(figsize=(10, 6))\n",
        "plt.bar(media_impressions.index, media_impressions, label='Total Impressions', color='blue', alpha=0.7)\n",
        "plt.bar(media_engagements.index, media_engagements, label='Total Engagements', color='orange', alpha=0.7)\n",
        "\n",
        "plt.xlabel('Media Type')\n",
        "plt.ylabel('Count')\n",
        "plt.title('Comparision of Impressions and Engagements by Media Type')\n",
        "plt.legend()\n",
        "\n",
        "plt.xticks(rotation=0)\n",
        "plt.show()\n"
      ]
    },
    {
      "cell_type": "markdown",
      "source": [
        "### Album Media type has the best Engagement Rate \n",
        "### But when considered the total number of impressions and engagements Photo and Video types of media have the highest numbers"
      ],
      "metadata": {
        "id": "439F7J2D04bo"
      }
    },
    {
      "cell_type": "code",
      "execution_count": null,
      "metadata": {
        "colab": {
          "base_uri": "https://localhost:8080/"
        },
        "id": "8tGBfsNfzLCh",
        "outputId": "0e9e53cc-fb7d-4840-ac3d-5b8351878af4"
      },
      "outputs": [
        {
          "data": {
            "text/plain": [
              "N/A                      1485\n",
              "Community Engagement     1411\n",
              "Evil Exhibited            420\n",
              "Evergreen                 163\n",
              "Name: Campaign Name, dtype: int64"
            ]
          },
          "execution_count": 105,
          "metadata": {},
          "output_type": "execute_result"
        }
      ],
      "source": [
        "data['Campaign Name'].value_counts()"
      ]
    },
    {
      "cell_type": "code",
      "execution_count": null,
      "metadata": {
        "colab": {
          "base_uri": "https://localhost:8080/",
          "height": 564
        },
        "id": "XmhjLkUP1b4E",
        "outputId": "6aae7c53-6511-4717-d69c-319874c6ec33"
      },
      "outputs": [
        {
          "data": {
            "image/png": "[encoded data removed]",
            "text/plain": [
              "<Figure size 720x432 with 1 Axes>"
            ]
          },
          "metadata": {
            "needs_background": "light"
          },
          "output_type": "display_data"
        }
      ],
      "source": [
        "campaign_impressions = data.groupby('Campaign Name')['Total Impressions'].sum()\n",
        "plt.figure(figsize=(10, 6))\n",
        "campaign_impressions.plot(kind='bar', color='blue', alpha=0.7)\n",
        "\n",
        "plt.xlabel('Campaign Name')\n",
        "plt.ylabel('Total Impressions')\n",
        "plt.title('Total Impressions by Campaign Name')\n",
        "for i, rate in enumerate(campaign_impressions):\n",
        "    plt.text(i, rate, f'{rate:.2f}', ha='center', va='bottom')\n",
        "\n",
        "plt.xticks(rotation=0)\n",
        "plt.show()\n"
      ]
    },
    {
      "cell_type": "code",
      "execution_count": null,
      "metadata": {
        "colab": {
          "base_uri": "https://localhost:8080/",
          "height": 564
        },
        "id": "k2LpWJfe1yM2",
        "outputId": "76a62fda-eadb-4db2-bf04-510ae54a2072"
      },
      "outputs": [
        {
          "data": {
            "image/png": "[encoded data removed]",
            "text/plain": [
              "<Figure size 720x432 with 1 Axes>"
            ]
          },
          "metadata": {
            "needs_background": "light"
          },
          "output_type": "display_data"
        }
      ],
      "source": [
        "campaign_engagements = data.groupby('Campaign Name')['Total Engagements'].sum()\n",
        "plt.figure(figsize=(10, 6))\n",
        "campaign_engagements.plot(kind='bar', color='blue', alpha=0.7)\n",
        "\n",
        "plt.xlabel('Campaign Name')\n",
        "plt.ylabel('Total Engagements')\n",
        "plt.title('Total Engagements by Campaign Name')\n",
        "for i, rate in enumerate(campaign_engagements):\n",
        "    plt.text(i, rate, f'{rate:.2f}', ha='center', va='bottom')\n",
        "\n",
        "plt.xticks(rotation=0)\n",
        "plt.show()\n"
      ]
    },
    {
      "cell_type": "code",
      "execution_count": null,
      "metadata": {
        "colab": {
          "base_uri": "https://localhost:8080/",
          "height": 564
        },
        "id": "5sp3oKlayjQZ",
        "outputId": "ac370f28-3a4e-4050-99fe-5a5fa9780ffc"
      },
      "outputs": [
        {
          "data": {
            "image/png": "[encoded data removed]",
            "text/plain": [
              "<Figure size 720x432 with 1 Axes>"
            ]
          },
          "metadata": {
            "needs_background": "light"
          },
          "output_type": "display_data"
        }
      ],
      "source": [
        "campaign_engagement = req_data.groupby('Campaign Name')['Engagement Rate'].mean()\n",
        "plt.figure(figsize=(10, 6))\n",
        "campaign_engagement.plot(kind='bar', color='green', alpha=0.7)\n",
        "\n",
        "plt.xlabel('Campaign Name')\n",
        "plt.ylabel('Engagement Rate')\n",
        "plt.title('Average Engagement Rate by Campaign Name')\n",
        "for i, rate in enumerate(campaign_engagement):\n",
        "    plt.text(i, rate, f'{rate:.2f}', ha='center', va='bottom')\n",
        "\n",
        "plt.xticks(rotation=0)\n",
        "plt.show()\n"
      ]
    },
    {
      "cell_type": "markdown",
      "source": [
        "### Community Engagement is the best-performing campaign.\n",
        "### Evergreen Campaign has the least number of impressions and engagements"
      ],
      "metadata": {
        "id": "t77hcpsR2EZB"
      }
    },
    {
      "cell_type": "markdown",
      "source": [
        "### Based on the findings and analysis \n",
        "I would suggest diversifying your game title posts beyond the categories of 'General'. By expanding the range of platforms you utilize, particularly those with higher social reach such as Twitter and Facebook you can effectively engage with a wider audience.\n",
        "\n",
        "In addition, incorporating various types of media such as photos and videos can significantly enhance your community engagement efforts. Visual content tends to capture attention more effectively and encourages higher levels of interaction. By sharing screenshots, gameplay clips, or even behind-the-scenes footage, you can generate excitement, curiosity, and discussions among your followers.\n",
        "\n",
        "Consider implementing a well-rounded posting strategy that includes tailored content for each platform. For instance, you could share teasers and updates on Twitter and Facebook, while focusing on visually appealing posts on Instagram with captivating images and short videos. For longer gameplay showcases or tutorials, YouTube can be an excellent platform. Lastly, TikTok provides a great opportunity for creating engaging and entertaining snippets that resonate with a younger, more trend-focused audience.\n",
        "\n",
        "Remember to analyze and monitor the engagement metrics for each platform to gauge the effectiveness of your posting strategy. This will allow you to refine your approach and optimize your content to better resonate with your community.\n",
        "\n"
      ],
      "metadata": {
        "id": "2aSnX5f03FzL"
      }
    }
  ],
  "metadata": {
    "colab": {
      "provenance": []
    },
    "kernelspec": {
      "display_name": "Python 3 (ipykernel)",
      "language": "python",
      "name": "python3"
    },
    "language_info": {
      "codemirror_mode": {
        "name": "ipython",
        "version": 3
      },
      "file_extension": ".py",
      "mimetype": "text/x-python",
      "name": "python",
      "nbconvert_exporter": "python",
      "pygments_lexer": "ipython3",
      "version": "3.9.12"
    }
  },
  "nbformat": 4,
  "nbformat_minor": 0
}